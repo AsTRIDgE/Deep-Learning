{
  "nbformat": 4,
  "nbformat_minor": 0,
  "metadata": {
    "colab": {
      "name": "fall detection.ipynb",
      "provenance": [],
      "collapsed_sections": [],
      "authorship_tag": "ABX9TyMuHWgrRomn6XF3pGWFjMOb",
      "include_colab_link": true
    },
    "kernelspec": {
      "name": "python3",
      "display_name": "Python 3"
    }
  },
  "cells": [
    {
      "cell_type": "markdown",
      "metadata": {
        "id": "view-in-github",
        "colab_type": "text"
      },
      "source": [
        "<a href=\"https://colab.research.google.com/github/AsTRIDgE/Deep-Learning/blob/master/fall_detection.ipynb\" target=\"_parent\"><img src=\"https://colab.research.google.com/assets/colab-badge.svg\" alt=\"Open In Colab\"/></a>"
      ]
    },
    {
      "cell_type": "code",
      "metadata": {
        "id": "q93Ps2jREK24",
        "colab_type": "code",
        "colab": {}
      },
      "source": [
        "import pandas as pd\n",
        "import numpy as np"
      ],
      "execution_count": 0,
      "outputs": []
    },
    {
      "cell_type": "code",
      "metadata": {
        "id": "LWtY6483knTL",
        "colab_type": "code",
        "colab": {}
      },
      "source": [
        "from google.colab import drive\n",
        "drive.mount('/content/drive')"
      ],
      "execution_count": 0,
      "outputs": []
    },
    {
      "cell_type": "code",
      "metadata": {
        "id": "yitdyGN1EFfV",
        "colab_type": "code",
        "colab": {}
      },
      "source": [
        "data = pd.read_csv('/content/drive/My Drive/Datasets/falldetection.csv')"
      ],
      "execution_count": 0,
      "outputs": []
    },
    {
      "cell_type": "code",
      "metadata": {
        "id": "sEuvW6JnEVEc",
        "colab_type": "code",
        "outputId": "cf7cf098-65fa-47eb-8fbc-7ed4e16004e5",
        "colab": {
          "base_uri": "https://localhost:8080/",
          "height": 228
        }
      },
      "source": [
        "data.info()"
      ],
      "execution_count": 36,
      "outputs": [
        {
          "output_type": "stream",
          "text": [
            "<class 'pandas.core.frame.DataFrame'>\n",
            "RangeIndex: 16382 entries, 0 to 16381\n",
            "Data columns (total 7 columns):\n",
            "ACTIVITY       16382 non-null int64\n",
            "TIME           16382 non-null float64\n",
            "SL             16382 non-null float64\n",
            "EEG            16382 non-null float64\n",
            "BP             16382 non-null int64\n",
            "HR             16382 non-null int64\n",
            "CIRCLUATION    16382 non-null int64\n",
            "dtypes: float64(3), int64(4)\n",
            "memory usage: 896.0 KB\n"
          ],
          "name": "stdout"
        }
      ]
    },
    {
      "cell_type": "code",
      "metadata": {
        "id": "AQQ1anCrEVBC",
        "colab_type": "code",
        "colab": {}
      },
      "source": [
        "y=data['ACTIVITY']\n",
        "data.drop(['ACTIVITY'],axis=1,inplace=True)"
      ],
      "execution_count": 0,
      "outputs": []
    },
    {
      "cell_type": "code",
      "metadata": {
        "id": "9l9NgcCWEU-L",
        "colab_type": "code",
        "colab": {}
      },
      "source": [
        "from sklearn.model_selection import train_test_split\n",
        "X_train, X_test, y_train, y_test = train_test_split(data, y, test_size=0.2, stratify=y,random_state=42)"
      ],
      "execution_count": 0,
      "outputs": []
    },
    {
      "cell_type": "code",
      "metadata": {
        "id": "7MTEA4otDqyQ",
        "colab_type": "code",
        "colab": {}
      },
      "source": [
        "from sklearn.preprocessing import StandardScaler\n",
        "sc=StandardScaler()"
      ],
      "execution_count": 0,
      "outputs": []
    },
    {
      "cell_type": "code",
      "metadata": {
        "id": "3hmEIocMDqoD",
        "colab_type": "code",
        "colab": {}
      },
      "source": [
        "X_train_std=sc.fit_transform(X_train)\n",
        "X_test_std=sc.fit_transform(X_test)"
      ],
      "execution_count": 0,
      "outputs": []
    },
    {
      "cell_type": "markdown",
      "metadata": {
        "id": "EqU0bxiN3mR7",
        "colab_type": "text"
      },
      "source": [
        "#MLP"
      ]
    },
    {
      "cell_type": "code",
      "metadata": {
        "id": "02zjS0ZFEU6j",
        "colab_type": "code",
        "colab": {}
      },
      "source": [
        "from sklearn.neural_network import MLPClassifier"
      ],
      "execution_count": 0,
      "outputs": []
    },
    {
      "cell_type": "code",
      "metadata": {
        "id": "O_hIFA0jEU1t",
        "colab_type": "code",
        "colab": {}
      },
      "source": [
        "mlpClassifier = MLPClassifier(  solver = 'adam' , alpha = 1e-5 ,hidden_layer_sizes = ( 30 ,5 ), random_state = 1 )"
      ],
      "execution_count": 0,
      "outputs": []
    },
    {
      "cell_type": "code",
      "metadata": {
        "id": "9ltE64mDEUyC",
        "colab_type": "code",
        "outputId": "05b45438-30b2-43dc-8d2e-32210938375e",
        "colab": {
          "base_uri": "https://localhost:8080/",
          "height": 158
        }
      },
      "source": [
        "mlpClassifier.fit(X_train, y_train)"
      ],
      "execution_count": 70,
      "outputs": [
        {
          "output_type": "execute_result",
          "data": {
            "text/plain": [
              "MLPClassifier(activation='relu', alpha=1e-05, batch_size='auto', beta_1=0.9,\n",
              "              beta_2=0.999, early_stopping=False, epsilon=1e-08,\n",
              "              hidden_layer_sizes=(30, 5), learning_rate='constant',\n",
              "              learning_rate_init=0.001, max_fun=15000, max_iter=200,\n",
              "              momentum=0.9, n_iter_no_change=10, nesterovs_momentum=True,\n",
              "              power_t=0.5, random_state=1, shuffle=True, solver='adam',\n",
              "              tol=0.0001, validation_fraction=0.1, verbose=False,\n",
              "              warm_start=False)"
            ]
          },
          "metadata": {
            "tags": []
          },
          "execution_count": 70
        }
      ]
    },
    {
      "cell_type": "code",
      "metadata": {
        "id": "wHmuBheIEUvB",
        "colab_type": "code",
        "outputId": "d53035e3-48a2-40b7-963b-7b230f7e3348",
        "colab": {
          "base_uri": "https://localhost:8080/",
          "height": 34
        }
      },
      "source": [
        "print(mlpClassifier.score(X_test, y_test))"
      ],
      "execution_count": 71,
      "outputs": [
        {
          "output_type": "stream",
          "text": [
            "0.2813548977723528\n"
          ],
          "name": "stdout"
        }
      ]
    },
    {
      "cell_type": "markdown",
      "metadata": {
        "id": "JW4J3uaq3szz",
        "colab_type": "text"
      },
      "source": [
        "#Keras MLP"
      ]
    },
    {
      "cell_type": "code",
      "metadata": {
        "id": "BIh9TDh-5ROJ",
        "colab_type": "code",
        "colab": {}
      },
      "source": [
        "# Importing both TensorFlow and its high level API - Keras.\n",
        "import tensorflow as tf\n",
        "from tensorflow import keras"
      ],
      "execution_count": 0,
      "outputs": []
    },
    {
      "cell_type": "code",
      "metadata": {
        "id": "w0TxgfHV5REI",
        "colab_type": "code",
        "colab": {}
      },
      "source": [
        "# Setting the random seeds for repeatability\n",
        "tf.set_random_seed(42)\n",
        "np.random.seed(42)"
      ],
      "execution_count": 0,
      "outputs": []
    },
    {
      "cell_type": "code",
      "metadata": {
        "id": "xRnZKCUp5Q4x",
        "colab_type": "code",
        "colab": {}
      },
      "source": [
        "# Create neural network using keras API\n",
        "# Sequential() does linear stacking of layers\n",
        "model = keras.models.Sequential()"
      ],
      "execution_count": 0,
      "outputs": []
    },
    {
      "cell_type": "code",
      "metadata": {
        "id": "cWagI01O5Q0w",
        "colab_type": "code",
        "colab": {}
      },
      "source": [
        "model.add(keras.layers.Dense(units=50,activation=\"relu\",input_shape=X_train_std.shape[1:]))"
      ],
      "execution_count": 0,
      "outputs": []
    },
    {
      "cell_type": "code",
      "metadata": {
        "id": "CLInfHIw5QFX",
        "colab_type": "code",
        "colab": {}
      },
      "source": [
        "model.add(keras.layers.Dense(units=6,activation='softmax'))"
      ],
      "execution_count": 0,
      "outputs": []
    },
    {
      "cell_type": "code",
      "metadata": {
        "id": "ntr1eoCNBU-w",
        "colab_type": "code",
        "colab": {}
      },
      "source": [
        "model.compile(loss='sparse_categorical_crossentropy', optimizer='adam', metrics=['accuracy'])"
      ],
      "execution_count": 0,
      "outputs": []
    },
    {
      "cell_type": "code",
      "metadata": {
        "id": "LavO3V8IBU4e",
        "colab_type": "code",
        "colab": {
          "base_uri": "https://localhost:8080/",
          "height": 1000
        },
        "outputId": "04cf9105-5912-4506-ee49-566edd22894c"
      },
      "source": [
        "model.fit(x=X_train_std, y=y_train, validation_split=0.1,epochs=50, batch_size=32)"
      ],
      "execution_count": 78,
      "outputs": [
        {
          "output_type": "stream",
          "text": [
            "Train on 11794 samples, validate on 1311 samples\n",
            "Epoch 1/50\n",
            "11794/11794 [==============================] - 1s 55us/sample - loss: 1.6325 - acc: 0.3071 - val_loss: 1.5537 - val_acc: 0.3707\n",
            "Epoch 2/50\n",
            "11794/11794 [==============================] - 1s 49us/sample - loss: 1.5640 - acc: 0.3525 - val_loss: 1.5314 - val_acc: 0.3768\n",
            "Epoch 3/50\n",
            "11794/11794 [==============================] - 1s 54us/sample - loss: 1.5421 - acc: 0.3569 - val_loss: 1.5156 - val_acc: 0.3883\n",
            "Epoch 4/50\n",
            "11794/11794 [==============================] - 1s 53us/sample - loss: 1.5265 - acc: 0.3586 - val_loss: 1.4996 - val_acc: 0.3875\n",
            "Epoch 5/50\n",
            "11794/11794 [==============================] - 1s 52us/sample - loss: 1.5147 - acc: 0.3663 - val_loss: 1.4908 - val_acc: 0.3883\n",
            "Epoch 6/50\n",
            "11794/11794 [==============================] - 1s 49us/sample - loss: 1.5054 - acc: 0.3704 - val_loss: 1.4798 - val_acc: 0.3982\n",
            "Epoch 7/50\n",
            "11794/11794 [==============================] - 1s 52us/sample - loss: 1.4957 - acc: 0.3793 - val_loss: 1.4673 - val_acc: 0.3898\n",
            "Epoch 8/50\n",
            "11794/11794 [==============================] - 1s 50us/sample - loss: 1.4865 - acc: 0.3838 - val_loss: 1.4589 - val_acc: 0.3944\n",
            "Epoch 9/50\n",
            "11794/11794 [==============================] - 1s 51us/sample - loss: 1.4780 - acc: 0.3884 - val_loss: 1.4461 - val_acc: 0.4233\n",
            "Epoch 10/50\n",
            "11794/11794 [==============================] - 1s 50us/sample - loss: 1.4693 - acc: 0.3932 - val_loss: 1.4454 - val_acc: 0.4150\n",
            "Epoch 11/50\n",
            "11794/11794 [==============================] - 1s 52us/sample - loss: 1.4613 - acc: 0.3966 - val_loss: 1.4283 - val_acc: 0.4256\n",
            "Epoch 12/50\n",
            "11794/11794 [==============================] - 1s 50us/sample - loss: 1.4535 - acc: 0.4000 - val_loss: 1.4214 - val_acc: 0.4409\n",
            "Epoch 13/50\n",
            "11794/11794 [==============================] - 1s 49us/sample - loss: 1.4449 - acc: 0.4081 - val_loss: 1.4191 - val_acc: 0.4508\n",
            "Epoch 14/50\n",
            "11794/11794 [==============================] - 1s 51us/sample - loss: 1.4375 - acc: 0.4144 - val_loss: 1.4037 - val_acc: 0.4592\n",
            "Epoch 15/50\n",
            "11794/11794 [==============================] - 1s 50us/sample - loss: 1.4299 - acc: 0.4185 - val_loss: 1.3980 - val_acc: 0.4523\n",
            "Epoch 16/50\n",
            "11794/11794 [==============================] - 1s 53us/sample - loss: 1.4220 - acc: 0.4211 - val_loss: 1.3900 - val_acc: 0.4584\n",
            "Epoch 17/50\n",
            "11794/11794 [==============================] - 1s 49us/sample - loss: 1.4151 - acc: 0.4254 - val_loss: 1.3861 - val_acc: 0.4607\n",
            "Epoch 18/50\n",
            "11794/11794 [==============================] - 1s 50us/sample - loss: 1.4080 - acc: 0.4300 - val_loss: 1.3816 - val_acc: 0.4325\n",
            "Epoch 19/50\n",
            "11794/11794 [==============================] - 1s 50us/sample - loss: 1.4019 - acc: 0.4308 - val_loss: 1.3712 - val_acc: 0.4439\n",
            "Epoch 20/50\n",
            "11794/11794 [==============================] - 1s 50us/sample - loss: 1.3953 - acc: 0.4299 - val_loss: 1.3652 - val_acc: 0.4729\n",
            "Epoch 21/50\n",
            "11794/11794 [==============================] - 1s 51us/sample - loss: 1.3903 - acc: 0.4364 - val_loss: 1.3650 - val_acc: 0.4493\n",
            "Epoch 22/50\n",
            "11794/11794 [==============================] - 1s 52us/sample - loss: 1.3851 - acc: 0.4387 - val_loss: 1.3587 - val_acc: 0.4554\n",
            "Epoch 23/50\n",
            "11794/11794 [==============================] - 1s 50us/sample - loss: 1.3808 - acc: 0.4370 - val_loss: 1.3539 - val_acc: 0.4592\n",
            "Epoch 24/50\n",
            "11794/11794 [==============================] - 1s 50us/sample - loss: 1.3750 - acc: 0.4434 - val_loss: 1.3529 - val_acc: 0.4607\n",
            "Epoch 25/50\n",
            "11794/11794 [==============================] - 1s 53us/sample - loss: 1.3712 - acc: 0.4431 - val_loss: 1.3427 - val_acc: 0.4775\n",
            "Epoch 26/50\n",
            "11794/11794 [==============================] - 1s 50us/sample - loss: 1.3670 - acc: 0.4449 - val_loss: 1.3370 - val_acc: 0.4569\n",
            "Epoch 27/50\n",
            "11794/11794 [==============================] - 1s 50us/sample - loss: 1.3632 - acc: 0.4467 - val_loss: 1.3391 - val_acc: 0.4653\n",
            "Epoch 28/50\n",
            "11794/11794 [==============================] - 1s 50us/sample - loss: 1.3603 - acc: 0.4452 - val_loss: 1.3312 - val_acc: 0.4714\n",
            "Epoch 29/50\n",
            "11794/11794 [==============================] - 1s 51us/sample - loss: 1.3560 - acc: 0.4495 - val_loss: 1.3340 - val_acc: 0.4539\n",
            "Epoch 30/50\n",
            "11794/11794 [==============================] - 1s 50us/sample - loss: 1.3528 - acc: 0.4506 - val_loss: 1.3331 - val_acc: 0.4729\n",
            "Epoch 31/50\n",
            "11794/11794 [==============================] - 1s 50us/sample - loss: 1.3498 - acc: 0.4518 - val_loss: 1.3254 - val_acc: 0.4706\n",
            "Epoch 32/50\n",
            "11794/11794 [==============================] - 1s 51us/sample - loss: 1.3471 - acc: 0.4509 - val_loss: 1.3190 - val_acc: 0.4744\n",
            "Epoch 33/50\n",
            "11794/11794 [==============================] - 1s 49us/sample - loss: 1.3445 - acc: 0.4539 - val_loss: 1.3271 - val_acc: 0.4554\n",
            "Epoch 34/50\n",
            "11794/11794 [==============================] - 1s 50us/sample - loss: 1.3415 - acc: 0.4555 - val_loss: 1.3268 - val_acc: 0.4668\n",
            "Epoch 35/50\n",
            "11794/11794 [==============================] - 1s 52us/sample - loss: 1.3393 - acc: 0.4554 - val_loss: 1.3154 - val_acc: 0.4668\n",
            "Epoch 36/50\n",
            "11794/11794 [==============================] - 1s 49us/sample - loss: 1.3369 - acc: 0.4605 - val_loss: 1.3152 - val_acc: 0.4653\n",
            "Epoch 37/50\n",
            "11794/11794 [==============================] - 1s 49us/sample - loss: 1.3352 - acc: 0.4589 - val_loss: 1.3125 - val_acc: 0.4737\n",
            "Epoch 38/50\n",
            "11794/11794 [==============================] - 1s 48us/sample - loss: 1.3331 - acc: 0.4602 - val_loss: 1.3053 - val_acc: 0.4722\n",
            "Epoch 39/50\n",
            "11794/11794 [==============================] - 1s 48us/sample - loss: 1.3307 - acc: 0.4592 - val_loss: 1.3141 - val_acc: 0.4477\n",
            "Epoch 40/50\n",
            "11794/11794 [==============================] - 1s 50us/sample - loss: 1.3298 - acc: 0.4602 - val_loss: 1.3069 - val_acc: 0.4645\n",
            "Epoch 41/50\n",
            "11794/11794 [==============================] - 1s 49us/sample - loss: 1.3276 - acc: 0.4651 - val_loss: 1.3035 - val_acc: 0.4836\n",
            "Epoch 42/50\n",
            "11794/11794 [==============================] - 1s 49us/sample - loss: 1.3261 - acc: 0.4633 - val_loss: 1.3057 - val_acc: 0.4828\n",
            "Epoch 43/50\n",
            "11794/11794 [==============================] - 1s 49us/sample - loss: 1.3231 - acc: 0.4620 - val_loss: 1.2993 - val_acc: 0.4798\n",
            "Epoch 44/50\n",
            "11794/11794 [==============================] - 1s 50us/sample - loss: 1.3219 - acc: 0.4679 - val_loss: 1.2961 - val_acc: 0.4661\n",
            "Epoch 45/50\n",
            "11794/11794 [==============================] - 1s 51us/sample - loss: 1.3188 - acc: 0.4668 - val_loss: 1.2966 - val_acc: 0.4622\n",
            "Epoch 46/50\n",
            "11794/11794 [==============================] - 1s 51us/sample - loss: 1.3183 - acc: 0.4661 - val_loss: 1.2982 - val_acc: 0.4714\n",
            "Epoch 47/50\n",
            "11794/11794 [==============================] - 1s 51us/sample - loss: 1.3160 - acc: 0.4680 - val_loss: 1.2985 - val_acc: 0.4882\n",
            "Epoch 48/50\n",
            "11794/11794 [==============================] - 1s 52us/sample - loss: 1.3170 - acc: 0.4644 - val_loss: 1.2907 - val_acc: 0.4897\n",
            "Epoch 49/50\n",
            "11794/11794 [==============================] - 1s 50us/sample - loss: 1.3139 - acc: 0.4713 - val_loss: 1.2877 - val_acc: 0.4851\n",
            "Epoch 50/50\n",
            "11794/11794 [==============================] - 1s 49us/sample - loss: 1.3114 - acc: 0.4683 - val_loss: 1.2888 - val_acc: 0.4821\n"
          ],
          "name": "stdout"
        },
        {
          "output_type": "execute_result",
          "data": {
            "text/plain": [
              "<tensorflow.python.keras.callbacks.History at 0x7f03fd704e48>"
            ]
          },
          "metadata": {
            "tags": []
          },
          "execution_count": 78
        }
      ]
    },
    {
      "cell_type": "code",
      "metadata": {
        "id": "qXsILpfaBUx_",
        "colab_type": "code",
        "colab": {
          "base_uri": "https://localhost:8080/",
          "height": 34
        },
        "outputId": "0b79d7ed-7bbb-4f86-d494-c25df98c77fe"
      },
      "source": [
        "test_loss, test_accuracy = model.evaluate(x=X_test_std, y=y_test)"
      ],
      "execution_count": 79,
      "outputs": [
        {
          "output_type": "stream",
          "text": [
            "3277/3277 [==============================] - 0s 23us/sample - loss: 1.8096 - acc: 0.4184\n"
          ],
          "name": "stdout"
        }
      ]
    },
    {
      "cell_type": "code",
      "metadata": {
        "id": "IGV9yF7eBUud",
        "colab_type": "code",
        "colab": {
          "base_uri": "https://localhost:8080/",
          "height": 34
        },
        "outputId": "17c604e9-9522-48a6-fb35-aa617016a10a"
      },
      "source": [
        "print(test_accuracy,test_loss)"
      ],
      "execution_count": 80,
      "outputs": [
        {
          "output_type": "stream",
          "text": [
            "0.41837046 1.8096307014451363\n"
          ],
          "name": "stdout"
        }
      ]
    }
  ]
}
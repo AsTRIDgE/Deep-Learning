{
  "nbformat": 4,
  "nbformat_minor": 0,
  "metadata": {
    "colab": {
      "name": "MLP Breast Cancer.ipynb",
      "provenance": [],
      "collapsed_sections": [],
      "include_colab_link": true
    },
    "kernelspec": {
      "name": "python3",
      "display_name": "Python 3"
    }
  },
  "cells": [
    {
      "cell_type": "markdown",
      "metadata": {
        "id": "view-in-github",
        "colab_type": "text"
      },
      "source": [
        "<a href=\"https://colab.research.google.com/github/AsTRIDgE/Deep-Learning/blob/master/MLP_Breast_Cancer.ipynb\" target=\"_parent\"><img src=\"https://colab.research.google.com/assets/colab-badge.svg\" alt=\"Open In Colab\"/></a>"
      ]
    },
    {
      "cell_type": "code",
      "metadata": {
        "id": "0eyZfC9Mr9_U",
        "colab_type": "code",
        "outputId": "11a74a48-e8b5-4195-e5bd-00b549cf7910",
        "colab": {
          "base_uri": "https://localhost:8080/",
          "height": 1000
        }
      },
      "source": [
        "# Applying MLP to breast cancer dataset\n",
        "import numpy as np\n",
        "\n",
        "# Load the dataset from sklearn\n",
        "from sklearn.datasets import load_breast_cancer\n",
        "\n",
        "# Use the MLP class defined in sklearn\n",
        "from sklearn.neural_network import MLPClassifier\n",
        "\n",
        "# Load the dataset\n",
        "cancerDataset = load_breast_cancer()\n",
        "\n",
        "# Print a detailed description of the dataset\n",
        "print(cancerDataset.DESCR)"
      ],
      "execution_count": 1,
      "outputs": [
        {
          "output_type": "stream",
          "text": [
            ".. _breast_cancer_dataset:\n",
            "\n",
            "Breast cancer wisconsin (diagnostic) dataset\n",
            "--------------------------------------------\n",
            "\n",
            "**Data Set Characteristics:**\n",
            "\n",
            "    :Number of Instances: 569\n",
            "\n",
            "    :Number of Attributes: 30 numeric, predictive attributes and the class\n",
            "\n",
            "    :Attribute Information:\n",
            "        - radius (mean of distances from center to points on the perimeter)\n",
            "        - texture (standard deviation of gray-scale values)\n",
            "        - perimeter\n",
            "        - area\n",
            "        - smoothness (local variation in radius lengths)\n",
            "        - compactness (perimeter^2 / area - 1.0)\n",
            "        - concavity (severity of concave portions of the contour)\n",
            "        - concave points (number of concave portions of the contour)\n",
            "        - symmetry \n",
            "        - fractal dimension (\"coastline approximation\" - 1)\n",
            "\n",
            "        The mean, standard error, and \"worst\" or largest (mean of the three\n",
            "        largest values) of these features were computed for each image,\n",
            "        resulting in 30 features.  For instance, field 3 is Mean Radius, field\n",
            "        13 is Radius SE, field 23 is Worst Radius.\n",
            "\n",
            "        - class:\n",
            "                - WDBC-Malignant\n",
            "                - WDBC-Benign\n",
            "\n",
            "    :Summary Statistics:\n",
            "\n",
            "    ===================================== ====== ======\n",
            "                                           Min    Max\n",
            "    ===================================== ====== ======\n",
            "    radius (mean):                        6.981  28.11\n",
            "    texture (mean):                       9.71   39.28\n",
            "    perimeter (mean):                     43.79  188.5\n",
            "    area (mean):                          143.5  2501.0\n",
            "    smoothness (mean):                    0.053  0.163\n",
            "    compactness (mean):                   0.019  0.345\n",
            "    concavity (mean):                     0.0    0.427\n",
            "    concave points (mean):                0.0    0.201\n",
            "    symmetry (mean):                      0.106  0.304\n",
            "    fractal dimension (mean):             0.05   0.097\n",
            "    radius (standard error):              0.112  2.873\n",
            "    texture (standard error):             0.36   4.885\n",
            "    perimeter (standard error):           0.757  21.98\n",
            "    area (standard error):                6.802  542.2\n",
            "    smoothness (standard error):          0.002  0.031\n",
            "    compactness (standard error):         0.002  0.135\n",
            "    concavity (standard error):           0.0    0.396\n",
            "    concave points (standard error):      0.0    0.053\n",
            "    symmetry (standard error):            0.008  0.079\n",
            "    fractal dimension (standard error):   0.001  0.03\n",
            "    radius (worst):                       7.93   36.04\n",
            "    texture (worst):                      12.02  49.54\n",
            "    perimeter (worst):                    50.41  251.2\n",
            "    area (worst):                         185.2  4254.0\n",
            "    smoothness (worst):                   0.071  0.223\n",
            "    compactness (worst):                  0.027  1.058\n",
            "    concavity (worst):                    0.0    1.252\n",
            "    concave points (worst):               0.0    0.291\n",
            "    symmetry (worst):                     0.156  0.664\n",
            "    fractal dimension (worst):            0.055  0.208\n",
            "    ===================================== ====== ======\n",
            "\n",
            "    :Missing Attribute Values: None\n",
            "\n",
            "    :Class Distribution: 212 - Malignant, 357 - Benign\n",
            "\n",
            "    :Creator:  Dr. William H. Wolberg, W. Nick Street, Olvi L. Mangasarian\n",
            "\n",
            "    :Donor: Nick Street\n",
            "\n",
            "    :Date: November, 1995\n",
            "\n",
            "This is a copy of UCI ML Breast Cancer Wisconsin (Diagnostic) datasets.\n",
            "https://goo.gl/U2Uwz2\n",
            "\n",
            "Features are computed from a digitized image of a fine needle\n",
            "aspirate (FNA) of a breast mass.  They describe\n",
            "characteristics of the cell nuclei present in the image.\n",
            "\n",
            "Separating plane described above was obtained using\n",
            "Multisurface Method-Tree (MSM-T) [K. P. Bennett, \"Decision Tree\n",
            "Construction Via Linear Programming.\" Proceedings of the 4th\n",
            "Midwest Artificial Intelligence and Cognitive Science Society,\n",
            "pp. 97-101, 1992], a classification method which uses linear\n",
            "programming to construct a decision tree.  Relevant features\n",
            "were selected using an exhaustive search in the space of 1-4\n",
            "features and 1-3 separating planes.\n",
            "\n",
            "The actual linear program used to obtain the separating plane\n",
            "in the 3-dimensional space is that described in:\n",
            "[K. P. Bennett and O. L. Mangasarian: \"Robust Linear\n",
            "Programming Discrimination of Two Linearly Inseparable Sets\",\n",
            "Optimization Methods and Software 1, 1992, 23-34].\n",
            "\n",
            "This database is also available through the UW CS ftp server:\n",
            "\n",
            "ftp ftp.cs.wisc.edu\n",
            "cd math-prog/cpo-dataset/machine-learn/WDBC/\n",
            "\n",
            ".. topic:: References\n",
            "\n",
            "   - W.N. Street, W.H. Wolberg and O.L. Mangasarian. Nuclear feature extraction \n",
            "     for breast tumor diagnosis. IS&T/SPIE 1993 International Symposium on \n",
            "     Electronic Imaging: Science and Technology, volume 1905, pages 861-870,\n",
            "     San Jose, CA, 1993.\n",
            "   - O.L. Mangasarian, W.N. Street and W.H. Wolberg. Breast cancer diagnosis and \n",
            "     prognosis via linear programming. Operations Research, 43(4), pages 570-577, \n",
            "     July-August 1995.\n",
            "   - W.H. Wolberg, W.N. Street, and O.L. Mangasarian. Machine learning techniques\n",
            "     to diagnose breast cancer from fine-needle aspirates. Cancer Letters 77 (1994) \n",
            "     163-171.\n"
          ],
          "name": "stdout"
        }
      ]
    },
    {
      "cell_type": "code",
      "metadata": {
        "id": "BUKHMiaksVLH",
        "colab_type": "code",
        "colab": {}
      },
      "source": [
        "# Load the attributes and target in X and y\n",
        "X = cancerDataset.data\n",
        "y = cancerDataset.target"
      ],
      "execution_count": 0,
      "outputs": []
    },
    {
      "cell_type": "code",
      "metadata": {
        "id": "c3z6p-ujKp2s",
        "colab_type": "code",
        "colab": {}
      },
      "source": [
        "from sklearn.model_selection import train_test_split\n",
        "X_train, X_test, y_train, y_test = train_test_split(X, y, test_size=0.3, stratify=y, random_state=42)"
      ],
      "execution_count": 0,
      "outputs": []
    },
    {
      "cell_type": "code",
      "metadata": {
        "id": "o-HrOjyrKvgD",
        "colab_type": "code",
        "colab": {}
      },
      "source": [
        "# Create an object (model) for MLP.\n",
        "mlpClassifier = MLPClassifier(solver='lbfgs', alpha=1e-5, hidden_layer_sizes=(5, 2), random_state=42)"
      ],
      "execution_count": 0,
      "outputs": []
    },
    {
      "cell_type": "code",
      "metadata": {
        "id": "kXv0CdEOsieN",
        "colab_type": "code",
        "outputId": "46820c12-9c6b-48c6-8ebb-2ab0b8223edf",
        "colab": {
          "base_uri": "https://localhost:8080/",
          "height": 158
        }
      },
      "source": [
        "mlpClassifier.fit(X_train, y_train)"
      ],
      "execution_count": 5,
      "outputs": [
        {
          "output_type": "execute_result",
          "data": {
            "text/plain": [
              "MLPClassifier(activation='relu', alpha=1e-05, batch_size='auto', beta_1=0.9,\n",
              "              beta_2=0.999, early_stopping=False, epsilon=1e-08,\n",
              "              hidden_layer_sizes=(5, 2), learning_rate='constant',\n",
              "              learning_rate_init=0.001, max_fun=15000, max_iter=200,\n",
              "              momentum=0.9, n_iter_no_change=10, nesterovs_momentum=True,\n",
              "              power_t=0.5, random_state=42, shuffle=True, solver='lbfgs',\n",
              "              tol=0.0001, validation_fraction=0.1, verbose=False,\n",
              "              warm_start=False)"
            ]
          },
          "metadata": {
            "tags": []
          },
          "execution_count": 5
        }
      ]
    },
    {
      "cell_type": "code",
      "metadata": {
        "id": "hXNWG9rqtcNw",
        "colab_type": "code",
        "outputId": "bdf4af7c-dee3-4554-859c-8fe6512ce30a",
        "colab": {
          "base_uri": "https://localhost:8080/",
          "height": 34
        }
      },
      "source": [
        "score = mlpClassifier.score(X_test, y_test)\n",
        "print(score)"
      ],
      "execution_count": 6,
      "outputs": [
        {
          "output_type": "stream",
          "text": [
            "0.935672514619883\n"
          ],
          "name": "stdout"
        }
      ]
    },
    {
      "cell_type": "code",
      "metadata": {
        "id": "o5FC2hl_ssUv",
        "colab_type": "code",
        "outputId": "38115373-66ed-4410-fb3d-95fb0a5fb17f",
        "colab": {
          "base_uri": "https://localhost:8080/",
          "height": 633
        }
      },
      "source": [
        "# The weights estimated for MLP\n",
        "print(mlpClassifier.coefs_)"
      ],
      "execution_count": 7,
      "outputs": [
        {
          "output_type": "stream",
          "text": [
            "[array([[-0.08525891,  0.38798585,  0.19210922,  0.06203894, -0.2848436 ],\n",
            "       [-0.16160578, -0.48404395,  0.30322263,  0.0545461 ,  0.17230045],\n",
            "       [-0.24477228,  0.42562395,  0.27528864, -0.36446472, -0.26347394],\n",
            "       [ 0.19686285,  0.37884628,  0.02050027, -0.80319877, -0.17287868],\n",
            "       [ 0.09322247, -0.29906892, -0.17212057, -0.11081203, -0.03637751],\n",
            "       [ 0.23747924, -0.25061179,  0.01178723,  0.07639971, -0.37557471],\n",
            "       [ 0.09052718, -0.27520357, -0.36017147,  0.37163936,  0.38557992],\n",
            "       [ 0.25602515, -0.16281443, -0.33315911,  0.15251931, -0.04955844],\n",
            "       [-0.31192383, -0.00495144, -0.3855629 ,  0.3386684 , -0.19974913],\n",
            "       [ 0.13493791, -0.15618825,  0.0166179 ,  0.03857794, -0.26096528],\n",
            "       [ 0.38853365,  0.22965972,  0.36393967,  0.32648457,  0.08106888],\n",
            "       [ 0.35697754, -0.34711694, -0.25175009, -0.37857076, -0.14464021],\n",
            "       [-0.09233733, -0.18033535,  0.2722205 , -0.12187498, -0.18140344],\n",
            "       [-0.00343702, -0.15320911,  0.25024285, -0.38682859,  0.40318065],\n",
            "       [ 0.22551911, -0.24956683, -0.40946655,  0.26121509,  0.17129414],\n",
            "       [ 0.18991035,  0.22426497, -0.35272451, -0.11723602, -0.31809061],\n",
            "       [ 0.30092816,  0.10176184, -0.14002973, -0.36145034, -0.15652149],\n",
            "       [-0.14469011,  0.19005648,  0.1139084 ,  0.32062706, -0.02300823],\n",
            "       [-0.31484168,  0.17643018,  0.21595052,  0.05070864,  0.22438212],\n",
            "       [-0.00509846,  0.01877961, -0.06000173, -0.39299628, -0.32469672],\n",
            "       [-0.36952902,  0.13107093, -0.15372784, -0.01458912,  0.33749707],\n",
            "       [-0.03323601, -0.2608718 ,  0.21161643, -0.26296651, -0.35029388],\n",
            "       [-0.01097472, -0.24054918,  0.35582343,  0.11422567,  0.1104688 ],\n",
            "       [ 0.69704286,  1.10532447, -0.25954463, -0.57941419,  0.03257847],\n",
            "       [ 0.2556501 ,  0.3268398 , -0.15070743, -0.32311002, -0.22529107],\n",
            "       [-0.05614966,  0.25678871,  0.29871328, -0.40857405,  0.00889961],\n",
            "       [-0.06388759, -0.23741612, -0.31478135, -0.13473264,  0.36676405],\n",
            "       [-0.14509166,  0.01356097,  0.16811566, -0.11304322,  0.39067265],\n",
            "       [ 0.38511871, -0.20801262, -0.00227845, -0.16532812, -0.17816898],\n",
            "       [-0.38271197,  0.08980232,  0.00221844, -0.3715395 , -0.18329813]]), array([[-0.60236295,  0.60273872],\n",
            "       [ 0.11227579, -0.34765326],\n",
            "       [ 0.42257453, -0.24481805],\n",
            "       [-0.15027951, -0.33177811],\n",
            "       [ 0.06624184, -0.75863587]]), array([[-0.63539587],\n",
            "       [-1.20287043]])]\n"
          ],
          "name": "stdout"
        }
      ]
    }
  ]
}
{
  "nbformat": 4,
  "nbformat_minor": 0,
  "metadata": {
    "colab": {
      "name": "MLP iris.ipynb",
      "provenance": []
    },
    "kernelspec": {
      "name": "python3",
      "display_name": "Python 3"
    }
  },
  "cells": [
    {
      "cell_type": "code",
      "metadata": {
        "id": "OQlYZ6RV4nMw",
        "colab_type": "code",
        "colab": {}
      },
      "source": [
        "#Applying MLP to Iris Flower dataset\n",
        "\n",
        "import numpy as np\n",
        "\n",
        "# Load the dataset from sklearn\n",
        "from sklearn.datasets  import load_iris\n",
        "\n",
        "# Use the MLP class defined in sklearn\n",
        "from sklearn.neural_network  import MLPClassifier\n",
        "\n",
        "# When return_X_y = True, the load function return data and target instead of Bunch object.\n",
        "X, y  = load_iris(return_X_y = True)"
      ],
      "execution_count": 0,
      "outputs": []
    },
    {
      "cell_type": "code",
      "metadata": {
        "id": "jLlBKeaz4qqz",
        "colab_type": "code",
        "outputId": "c00f7759-822e-4b6f-c246-35cc4296febb",
        "colab": {
          "base_uri": "https://localhost:8080/",
          "height": 70
        }
      },
      "source": [
        "print(type(X))\n",
        "\n",
        "print(X.shape)\n",
        "\n",
        "print(y.shape)\n"
      ],
      "execution_count": 0,
      "outputs": [
        {
          "output_type": "stream",
          "text": [
            "<class 'numpy.ndarray'>\n",
            "(150, 4)\n",
            "(150,)\n"
          ],
          "name": "stdout"
        }
      ]
    },
    {
      "cell_type": "code",
      "metadata": {
        "id": "8yM3xUqO4qyB",
        "colab_type": "code",
        "colab": {}
      },
      "source": [
        "# Split the data into 80% training and 20% testing\n",
        "from sklearn.model_selection import train_test_split\n",
        "\n",
        "# While splitting, make an unbiased splitting\n",
        "X_train, X_test, y_train, y_test = train_test_split(X, y, test_size =  0.2 ,stratify = y, random_state = 42 )"
      ],
      "execution_count": 0,
      "outputs": []
    },
    {
      "cell_type": "code",
      "metadata": {
        "id": "K0rQcfj47kJP",
        "colab_type": "code",
        "colab": {}
      },
      "source": [
        "# Create an object (model) for MLP.\n",
        "mlpClassifier = MLPClassifier(solver =  'lbfgs', alpha = 1e-5 ,hidden_layer_sizes= (  10 , 5), random_state = 1)"
      ],
      "execution_count": 0,
      "outputs": []
    },
    {
      "cell_type": "code",
      "metadata": {
        "id": "eJTP8feL7Z8d",
        "colab_type": "code",
        "outputId": "7609fd3a-99e9-443e-b4b0-98dbbe913b90",
        "colab": {
          "base_uri": "https://localhost:8080/",
          "height": 158
        }
      },
      "source": [
        "# Train the MLP using 80% training set\n",
        "mlpClassifier.fit(X_train, y_train)"
      ],
      "execution_count": 0,
      "outputs": [
        {
          "output_type": "execute_result",
          "data": {
            "text/plain": [
              "MLPClassifier(activation='relu', alpha=1e-05, batch_size='auto', beta_1=0.9,\n",
              "              beta_2=0.999, early_stopping=False, epsilon=1e-08,\n",
              "              hidden_layer_sizes=(10, 5), learning_rate='constant',\n",
              "              learning_rate_init=0.001, max_fun=15000, max_iter=200,\n",
              "              momentum=0.9, n_iter_no_change=10, nesterovs_momentum=True,\n",
              "              power_t=0.5, random_state=1, shuffle=True, solver='lbfgs',\n",
              "              tol=0.0001, validation_fraction=0.1, verbose=False,\n",
              "              warm_start=False)"
            ]
          },
          "metadata": {
            "tags": []
          },
          "execution_count": 5
        }
      ]
    },
    {
      "cell_type": "code",
      "metadata": {
        "id": "WkV-nUnL7TX9",
        "colab_type": "code",
        "outputId": "58a62ab3-a08a-4acf-a8a6-e8ac5b048987",
        "colab": {
          "base_uri": "https://localhost:8080/",
          "height": 34
        }
      },
      "source": [
        "# The classification score accuracy obtained.\n",
        "score  =  mlpClassifier.score(X_test, y_test)\n",
        "print (score)"
      ],
      "execution_count": 0,
      "outputs": [
        {
          "output_type": "stream",
          "text": [
            "0.9666666666666667\n"
          ],
          "name": "stdout"
        }
      ]
    },
    {
      "cell_type": "code",
      "metadata": {
        "id": "Dg2E_BYS5iMj",
        "colab_type": "code",
        "outputId": "96a8d7c8-68b3-42e2-d9f5-c45f4d97a195",
        "colab": {
          "base_uri": "https://localhost:8080/",
          "height": 386
        }
      },
      "source": [
        "# The weights estimated for MLP\n",
        "print(mlpClassifier.coefs_)"
      ],
      "execution_count": 0,
      "outputs": [
        {
          "output_type": "stream",
          "text": [
            "[array([[-0.74873504, -7.62627201, -0.6544739 , -0.66842282, -0.46248389,\n",
            "        -0.53372959, -0.41076297, -0.2021992 , -0.13515691, -2.68162279],\n",
            "       [-0.33073444, -8.85909218, -0.38694509, -2.65902699, -0.61876652,\n",
            "         0.22318413, -0.10826846,  0.0768395 , -0.47082243, -1.65659687],\n",
            "       [-0.31002057, 14.39505881, -0.24427389,  5.82013831,  0.49278648,\n",
            "         0.51663771, -0.54327974, -0.60349128, -0.43227363, -1.76707252],\n",
            "       [-0.79979511, 10.52850006,  0.59949063,  3.14620518,  0.25121459,\n",
            "        -0.24153566,  0.24417584,  0.43810776, -0.63067977, -0.4911419 ]]), array([[-0.60793017, -0.07925471, -0.36474806, -0.20304076, -0.37071496],\n",
            "       [-0.56522601, -2.76655869, -0.40484672, 25.29351637,  2.52222009],\n",
            "       [-0.50298851, -0.10870655,  0.24588763, -0.10855061, -0.56924274],\n",
            "       [-0.16019909, -0.58585562,  0.24008935,  2.08837037, -0.39610476],\n",
            "       [ 0.51024415, -0.45854123, -0.45626241,  0.38880481, -0.12942377],\n",
            "       [-0.42327777,  0.54073553, -0.19255382,  0.31724045,  0.28585424],\n",
            "       [ 0.48482588,  0.15642717,  0.3174053 , -0.19112139, -0.29100741],\n",
            "       [ 0.50073789, -0.09095408,  0.58795435,  0.20672948,  0.1539272 ],\n",
            "       [-0.48728973,  0.56853786, -0.06335379,  0.09915134, -0.11619345],\n",
            "       [-0.33262223, -0.37449347,  0.09319372, -0.28535382, -0.91254381]]), array([[ 0.21278453, -0.8376133 ,  0.74367421],\n",
            "       [-0.13944375,  0.47794155,  0.28598228],\n",
            "       [-0.30569319,  0.52803922,  0.23930986],\n",
            "       [-5.88952585,  2.92408604,  3.09592553],\n",
            "       [ 5.47263561, -1.70307338, -3.32129295]])]\n"
          ],
          "name": "stdout"
        }
      ]
    }
  ]
}
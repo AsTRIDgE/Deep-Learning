{
  "nbformat": 4,
  "nbformat_minor": 0,
  "metadata": {
    "colab": {
      "name": "MLP  keras Iris.ipynb",
      "provenance": [],
      "collapsed_sections": [],
      "authorship_tag": "ABX9TyOU7SGOG5TzwjH9UOrM3/3F",
      "include_colab_link": true
    },
    "kernelspec": {
      "name": "python3",
      "display_name": "Python 3"
    },
    "accelerator": "GPU"
  },
  "cells": [
    {
      "cell_type": "markdown",
      "metadata": {
        "id": "view-in-github",
        "colab_type": "text"
      },
      "source": [
        "<a href=\"https://colab.research.google.com/github/AsTRIDgE/Deep-Learning/blob/master/MLP_keras_Iris.ipynb\" target=\"_parent\"><img src=\"https://colab.research.google.com/assets/colab-badge.svg\" alt=\"Open In Colab\"/></a>"
      ]
    },
    {
      "cell_type": "markdown",
      "metadata": {
        "id": "oBm7nVkRXRzW",
        "colab_type": "text"
      },
      "source": [
        "#MLP for Iris flower classification using Keras"
      ]
    },
    {
      "cell_type": "code",
      "metadata": {
        "id": "EbG4omD2XgvI",
        "colab_type": "code",
        "colab": {}
      },
      "source": [
        "import numpy as np\n",
        "import pandas as pd\n",
        "import matplotlib.pyplot as plt"
      ],
      "execution_count": 0,
      "outputs": []
    },
    {
      "cell_type": "code",
      "metadata": {
        "id": "oH5Uk1gzK8bL",
        "colab_type": "code",
        "colab": {}
      },
      "source": [
        "# Load the dataset from sklearn\n",
        "from sklearn.datasets import load_iris"
      ],
      "execution_count": 0,
      "outputs": []
    },
    {
      "cell_type": "code",
      "metadata": {
        "id": "2YWNHOXKK8X6",
        "colab_type": "code",
        "colab": {}
      },
      "source": [
        "# Importing both TensorFlow and its high level API - Keras.\n",
        "import tensorflow as tf\n",
        "from tensorflow import keras"
      ],
      "execution_count": 0,
      "outputs": []
    },
    {
      "cell_type": "code",
      "metadata": {
        "id": "Qyvk8fzqK8U9",
        "colab_type": "code",
        "colab": {}
      },
      "source": [
        "# Setting the random seeds for repeatability\n",
        "tf.set_random_seed(42)\n",
        "np.random.seed(42)"
      ],
      "execution_count": 0,
      "outputs": []
    },
    {
      "cell_type": "code",
      "metadata": {
        "id": "b-Ckbhu5K8SH",
        "colab_type": "code",
        "colab": {}
      },
      "source": [
        "# Loading the dataset\n",
        "irisData = load_iris()"
      ],
      "execution_count": 0,
      "outputs": []
    },
    {
      "cell_type": "code",
      "metadata": {
        "id": "GW_32EaKK8PP",
        "colab_type": "code",
        "colab": {}
      },
      "source": [
        "# Load the attributes and target in X and y\n",
        "X = irisData.data\n",
        "y = irisData.target"
      ],
      "execution_count": 0,
      "outputs": []
    },
    {
      "cell_type": "code",
      "metadata": {
        "id": "9BQEQtcFLNcC",
        "colab_type": "code",
        "colab": {}
      },
      "source": [
        "# Split the data into 80% training and 20% testing\n",
        "from sklearn.model_selection import train_test_split\n",
        "X_train, X_test, y_train, y_test = train_test_split(X, y, test_size=0.2, stratify=y, random_state=42)"
      ],
      "execution_count": 0,
      "outputs": []
    },
    {
      "cell_type": "code",
      "metadata": {
        "id": "VBNMQOMuLNi7",
        "colab_type": "code",
        "colab": {}
      },
      "source": [
        "# Feature scaling using Standardization\n",
        "from sklearn.preprocessing import StandardScaler\n",
        "sc = StandardScaler()"
      ],
      "execution_count": 0,
      "outputs": []
    },
    {
      "cell_type": "code",
      "metadata": {
        "id": "-B5wv9HSLhUW",
        "colab_type": "code",
        "outputId": "0540d260-204b-49a2-f8af-5ecb14b0fb38",
        "colab": {
          "base_uri": "https://localhost:8080/",
          "height": 34
        }
      },
      "source": [
        "# Training the feature scaling parameters\n",
        "sc.fit(X_train)"
      ],
      "execution_count": 9,
      "outputs": [
        {
          "output_type": "execute_result",
          "data": {
            "text/plain": [
              "StandardScaler(copy=True, with_mean=True, with_std=True)"
            ]
          },
          "metadata": {
            "tags": []
          },
          "execution_count": 9
        }
      ]
    },
    {
      "cell_type": "code",
      "metadata": {
        "id": "3ck-wi7mLh2b",
        "colab_type": "code",
        "colab": {}
      },
      "source": [
        "# Applying transformations to both training and testing set\n",
        "X_train_std = sc.transform(X_train)\n",
        "X_test_std = sc.transform(X_test)"
      ],
      "execution_count": 0,
      "outputs": []
    },
    {
      "cell_type": "code",
      "metadata": {
        "id": "8scNLyO9Lib0",
        "colab_type": "code",
        "colab": {}
      },
      "source": [
        "# Create neural network using keras API\n",
        "# Sequential() does linear stacking of layer\n",
        "model_MLP = keras.models.Sequential()\n",
        "\n",
        "# Hidden layer definitions\n",
        "model_MLP.add(keras.layers.Dense(units=15, activation='relu', input_shape= X_train.shape[1:]))\n",
        "\n",
        "# Output layer definitions\n",
        "model_MLP.add(keras.layers.Dense(units=3, activation='softmax'))"
      ],
      "execution_count": 0,
      "outputs": []
    },
    {
      "cell_type": "code",
      "metadata": {
        "id": "-QY0AEfxMtJr",
        "colab_type": "code",
        "outputId": "df8b582b-e3aa-42c5-ce95-6eb40095a56a",
        "colab": {
          "base_uri": "https://localhost:8080/",
          "height": 228
        }
      },
      "source": [
        "# Print the summary of network architecture\n",
        "model_MLP.summary()"
      ],
      "execution_count": 12,
      "outputs": [
        {
          "output_type": "stream",
          "text": [
            "Model: \"sequential\"\n",
            "_________________________________________________________________\n",
            "Layer (type)                 Output Shape              Param #   \n",
            "=================================================================\n",
            "dense (Dense)                (None, 15)                75        \n",
            "_________________________________________________________________\n",
            "dense_1 (Dense)              (None, 3)                 48        \n",
            "=================================================================\n",
            "Total params: 123\n",
            "Trainable params: 123\n",
            "Non-trainable params: 0\n",
            "_________________________________________________________________\n"
          ],
          "name": "stdout"
        }
      ]
    },
    {
      "cell_type": "code",
      "metadata": {
        "id": "UoQNV8eaLx_7",
        "colab_type": "code",
        "colab": {}
      },
      "source": [
        "model_MLP.compile(loss='sparse_categorical_crossentropy',optimizer='adam', metrics=['accuracy'])"
      ],
      "execution_count": 0,
      "outputs": []
    },
    {
      "cell_type": "code",
      "metadata": {
        "id": "IMQjilIVLyGP",
        "colab_type": "code",
        "outputId": "451c7a2b-fbb4-4633-bfc9-64a1e95deced",
        "colab": {
          "base_uri": "https://localhost:8080/",
          "height": 1000
        }
      },
      "source": [
        "model_MLP.fit(x=X_train_std, y=y_train, validation_split=0.1,epochs=50, batch_size=16)"
      ],
      "execution_count": 14,
      "outputs": [
        {
          "output_type": "stream",
          "text": [
            "Train on 108 samples, validate on 12 samples\n",
            "Epoch 1/50\n",
            "108/108 [==============================] - 2s 14ms/sample - loss: 1.2136 - acc: 0.2870 - val_loss: 1.2068 - val_acc: 0.2500\n",
            "Epoch 2/50\n",
            "108/108 [==============================] - 0s 210us/sample - loss: 1.1591 - acc: 0.3704 - val_loss: 1.1464 - val_acc: 0.3333\n",
            "Epoch 3/50\n",
            "108/108 [==============================] - 0s 227us/sample - loss: 1.1060 - acc: 0.4259 - val_loss: 1.0904 - val_acc: 0.5000\n",
            "Epoch 4/50\n",
            "108/108 [==============================] - 0s 226us/sample - loss: 1.0571 - acc: 0.5093 - val_loss: 1.0356 - val_acc: 0.5833\n",
            "Epoch 5/50\n",
            "108/108 [==============================] - 0s 214us/sample - loss: 1.0095 - acc: 0.5463 - val_loss: 0.9840 - val_acc: 0.5833\n",
            "Epoch 6/50\n",
            "108/108 [==============================] - 0s 206us/sample - loss: 0.9667 - acc: 0.5556 - val_loss: 0.9352 - val_acc: 0.5833\n",
            "Epoch 7/50\n",
            "108/108 [==============================] - 0s 247us/sample - loss: 0.9246 - acc: 0.5648 - val_loss: 0.8918 - val_acc: 0.5833\n",
            "Epoch 8/50\n",
            "108/108 [==============================] - 0s 227us/sample - loss: 0.8855 - acc: 0.5926 - val_loss: 0.8520 - val_acc: 0.5833\n",
            "Epoch 9/50\n",
            "108/108 [==============================] - 0s 248us/sample - loss: 0.8495 - acc: 0.6204 - val_loss: 0.8132 - val_acc: 0.7500\n",
            "Epoch 10/50\n",
            "108/108 [==============================] - 0s 229us/sample - loss: 0.8158 - acc: 0.6389 - val_loss: 0.7776 - val_acc: 0.7500\n",
            "Epoch 11/50\n",
            "108/108 [==============================] - 0s 216us/sample - loss: 0.7823 - acc: 0.6759 - val_loss: 0.7470 - val_acc: 0.7500\n",
            "Epoch 12/50\n",
            "108/108 [==============================] - 0s 237us/sample - loss: 0.7514 - acc: 0.7222 - val_loss: 0.7175 - val_acc: 0.7500\n",
            "Epoch 13/50\n",
            "108/108 [==============================] - 0s 227us/sample - loss: 0.7215 - acc: 0.7593 - val_loss: 0.6926 - val_acc: 0.7500\n",
            "Epoch 14/50\n",
            "108/108 [==============================] - 0s 193us/sample - loss: 0.6936 - acc: 0.7778 - val_loss: 0.6679 - val_acc: 0.7500\n",
            "Epoch 15/50\n",
            "108/108 [==============================] - 0s 199us/sample - loss: 0.6663 - acc: 0.7870 - val_loss: 0.6460 - val_acc: 0.7500\n",
            "Epoch 16/50\n",
            "108/108 [==============================] - 0s 209us/sample - loss: 0.6414 - acc: 0.8148 - val_loss: 0.6264 - val_acc: 0.7500\n",
            "Epoch 17/50\n",
            "108/108 [==============================] - 0s 199us/sample - loss: 0.6164 - acc: 0.8241 - val_loss: 0.6086 - val_acc: 0.7500\n",
            "Epoch 18/50\n",
            "108/108 [==============================] - 0s 219us/sample - loss: 0.5936 - acc: 0.8519 - val_loss: 0.5930 - val_acc: 0.7500\n",
            "Epoch 19/50\n",
            "108/108 [==============================] - 0s 237us/sample - loss: 0.5716 - acc: 0.8704 - val_loss: 0.5786 - val_acc: 0.7500\n",
            "Epoch 20/50\n",
            "108/108 [==============================] - 0s 241us/sample - loss: 0.5508 - acc: 0.8796 - val_loss: 0.5649 - val_acc: 0.7500\n",
            "Epoch 21/50\n",
            "108/108 [==============================] - 0s 241us/sample - loss: 0.5321 - acc: 0.8796 - val_loss: 0.5528 - val_acc: 0.7500\n",
            "Epoch 22/50\n",
            "108/108 [==============================] - 0s 246us/sample - loss: 0.5136 - acc: 0.8796 - val_loss: 0.5414 - val_acc: 0.7500\n",
            "Epoch 23/50\n",
            "108/108 [==============================] - 0s 234us/sample - loss: 0.4971 - acc: 0.8889 - val_loss: 0.5301 - val_acc: 0.7500\n",
            "Epoch 24/50\n",
            "108/108 [==============================] - 0s 226us/sample - loss: 0.4812 - acc: 0.8889 - val_loss: 0.5200 - val_acc: 0.7500\n",
            "Epoch 25/50\n",
            "108/108 [==============================] - 0s 219us/sample - loss: 0.4679 - acc: 0.8889 - val_loss: 0.5132 - val_acc: 0.7500\n",
            "Epoch 26/50\n",
            "108/108 [==============================] - 0s 202us/sample - loss: 0.4540 - acc: 0.8889 - val_loss: 0.5037 - val_acc: 0.7500\n",
            "Epoch 27/50\n",
            "108/108 [==============================] - 0s 225us/sample - loss: 0.4412 - acc: 0.8981 - val_loss: 0.4942 - val_acc: 0.7500\n",
            "Epoch 28/50\n",
            "108/108 [==============================] - 0s 222us/sample - loss: 0.4303 - acc: 0.8981 - val_loss: 0.4865 - val_acc: 0.7500\n",
            "Epoch 29/50\n",
            "108/108 [==============================] - 0s 195us/sample - loss: 0.4192 - acc: 0.9074 - val_loss: 0.4786 - val_acc: 0.7500\n",
            "Epoch 30/50\n",
            "108/108 [==============================] - 0s 246us/sample - loss: 0.4090 - acc: 0.9074 - val_loss: 0.4700 - val_acc: 0.7500\n",
            "Epoch 31/50\n",
            "108/108 [==============================] - 0s 231us/sample - loss: 0.3995 - acc: 0.9074 - val_loss: 0.4615 - val_acc: 0.7500\n",
            "Epoch 32/50\n",
            "108/108 [==============================] - 0s 236us/sample - loss: 0.3903 - acc: 0.9074 - val_loss: 0.4533 - val_acc: 0.7500\n",
            "Epoch 33/50\n",
            "108/108 [==============================] - 0s 222us/sample - loss: 0.3820 - acc: 0.9074 - val_loss: 0.4477 - val_acc: 0.7500\n",
            "Epoch 34/50\n",
            "108/108 [==============================] - 0s 390us/sample - loss: 0.3738 - acc: 0.9167 - val_loss: 0.4426 - val_acc: 0.7500\n",
            "Epoch 35/50\n",
            "108/108 [==============================] - 0s 252us/sample - loss: 0.3659 - acc: 0.9074 - val_loss: 0.4355 - val_acc: 0.7500\n",
            "Epoch 36/50\n",
            "108/108 [==============================] - 0s 231us/sample - loss: 0.3585 - acc: 0.9074 - val_loss: 0.4290 - val_acc: 0.7500\n",
            "Epoch 37/50\n",
            "108/108 [==============================] - 0s 193us/sample - loss: 0.3517 - acc: 0.9074 - val_loss: 0.4218 - val_acc: 0.7500\n",
            "Epoch 38/50\n",
            "108/108 [==============================] - 0s 260us/sample - loss: 0.3451 - acc: 0.9074 - val_loss: 0.4153 - val_acc: 0.7500\n",
            "Epoch 39/50\n",
            "108/108 [==============================] - 0s 225us/sample - loss: 0.3387 - acc: 0.9074 - val_loss: 0.4089 - val_acc: 0.7500\n",
            "Epoch 40/50\n",
            "108/108 [==============================] - 0s 211us/sample - loss: 0.3328 - acc: 0.9074 - val_loss: 0.4033 - val_acc: 0.7500\n",
            "Epoch 41/50\n",
            "108/108 [==============================] - 0s 235us/sample - loss: 0.3272 - acc: 0.9074 - val_loss: 0.3963 - val_acc: 0.7500\n",
            "Epoch 42/50\n",
            "108/108 [==============================] - 0s 214us/sample - loss: 0.3217 - acc: 0.9074 - val_loss: 0.3912 - val_acc: 0.7500\n",
            "Epoch 43/50\n",
            "108/108 [==============================] - 0s 206us/sample - loss: 0.3163 - acc: 0.9074 - val_loss: 0.3859 - val_acc: 0.7500\n",
            "Epoch 44/50\n",
            "108/108 [==============================] - 0s 190us/sample - loss: 0.3112 - acc: 0.9074 - val_loss: 0.3802 - val_acc: 0.7500\n",
            "Epoch 45/50\n",
            "108/108 [==============================] - 0s 222us/sample - loss: 0.3063 - acc: 0.9074 - val_loss: 0.3747 - val_acc: 0.7500\n",
            "Epoch 46/50\n",
            "108/108 [==============================] - 0s 264us/sample - loss: 0.3018 - acc: 0.9074 - val_loss: 0.3683 - val_acc: 0.7500\n",
            "Epoch 47/50\n",
            "108/108 [==============================] - 0s 259us/sample - loss: 0.2973 - acc: 0.9074 - val_loss: 0.3629 - val_acc: 0.7500\n",
            "Epoch 48/50\n",
            "108/108 [==============================] - 0s 244us/sample - loss: 0.2929 - acc: 0.9074 - val_loss: 0.3568 - val_acc: 0.7500\n",
            "Epoch 49/50\n",
            "108/108 [==============================] - 0s 242us/sample - loss: 0.2885 - acc: 0.9167 - val_loss: 0.3524 - val_acc: 0.7500\n",
            "Epoch 50/50\n",
            "108/108 [==============================] - 0s 201us/sample - loss: 0.2845 - acc: 0.9167 - val_loss: 0.3473 - val_acc: 0.7500\n"
          ],
          "name": "stdout"
        },
        {
          "output_type": "execute_result",
          "data": {
            "text/plain": [
              "<tensorflow.python.keras.callbacks.History at 0x7f52bfe82128>"
            ]
          },
          "metadata": {
            "tags": []
          },
          "execution_count": 14
        }
      ]
    },
    {
      "cell_type": "code",
      "metadata": {
        "id": "7ycXJMa6Lit1",
        "colab_type": "code",
        "outputId": "85bce093-d50a-4623-bb1b-0dc99068d70f",
        "colab": {
          "base_uri": "https://localhost:8080/",
          "height": 34
        }
      },
      "source": [
        "test_loss, test_accuracy = model_MLP.evaluate(x=X_test_std, y=y_test)"
      ],
      "execution_count": 15,
      "outputs": [
        {
          "output_type": "stream",
          "text": [
            "\r30/30 [==============================] - 0s 100us/sample - loss: 0.3645 - acc: 0.8333\n"
          ],
          "name": "stdout"
        }
      ]
    },
    {
      "cell_type": "code",
      "metadata": {
        "id": "cYITdSdJL_5z",
        "colab_type": "code",
        "outputId": "f8664476-bbbb-458a-a9a0-cc0e5192c97e",
        "colab": {
          "base_uri": "https://localhost:8080/",
          "height": 34
        }
      },
      "source": [
        "print(test_loss, test_accuracy)"
      ],
      "execution_count": 16,
      "outputs": [
        {
          "output_type": "stream",
          "text": [
            "0.36451834440231323 0.8333333\n"
          ],
          "name": "stdout"
        }
      ]
    }
  ]
}
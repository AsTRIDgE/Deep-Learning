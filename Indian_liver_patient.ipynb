{
  "nbformat": 4,
  "nbformat_minor": 0,
  "metadata": {
    "colab": {
      "name": "Indian_liver_patient.ipynb",
      "provenance": [],
      "collapsed_sections": [],
      "include_colab_link": true
    },
    "kernelspec": {
      "name": "python3",
      "display_name": "Python 3"
    }
  },
  "cells": [
    {
      "cell_type": "markdown",
      "metadata": {
        "id": "view-in-github",
        "colab_type": "text"
      },
      "source": [
        "<a href=\"https://colab.research.google.com/github/AsTRIDgE/Deep-Learning/blob/master/Indian_liver_patient.ipynb\" target=\"_parent\"><img src=\"https://colab.research.google.com/assets/colab-badge.svg\" alt=\"Open In Colab\"/></a>"
      ]
    },
    {
      "cell_type": "markdown",
      "metadata": {
        "id": "gtVp4Pav10w5",
        "colab_type": "text"
      },
      "source": [
        "##Binary classification"
      ]
    },
    {
      "cell_type": "code",
      "metadata": {
        "id": "U0xgCj1Aw2Be",
        "colab_type": "code",
        "colab": {}
      },
      "source": [
        "import pandas as pd\n",
        "import numpy as np"
      ],
      "execution_count": 0,
      "outputs": []
    },
    {
      "cell_type": "code",
      "metadata": {
        "id": "Im9EsxlPfLBS",
        "colab_type": "code",
        "colab": {}
      },
      "source": [
        "from google.colab import drive\n",
        "drive.mount('/content/drive')"
      ],
      "execution_count": 0,
      "outputs": []
    },
    {
      "cell_type": "code",
      "metadata": {
        "id": "oK5oy2a_w8ZH",
        "colab_type": "code",
        "colab": {}
      },
      "source": [
        "data = pd.read_csv('/content/drive/My Drive/Datasets/indian_liver_patient.csv')"
      ],
      "execution_count": 0,
      "outputs": []
    },
    {
      "cell_type": "code",
      "metadata": {
        "id": "C6VMlLzUw8Vh",
        "colab_type": "code",
        "outputId": "d3310bb4-bef8-443d-8c5c-ba0b475801ae",
        "colab": {
          "base_uri": "https://localhost:8080/",
          "height": 298
        }
      },
      "source": [
        "data.info()"
      ],
      "execution_count": 0,
      "outputs": [
        {
          "output_type": "stream",
          "text": [
            "<class 'pandas.core.frame.DataFrame'>\n",
            "RangeIndex: 583 entries, 0 to 582\n",
            "Data columns (total 11 columns):\n",
            "Age                           583 non-null int64\n",
            "Gender                        583 non-null object\n",
            "Total_Bilirubin               583 non-null float64\n",
            "Direct_Bilirubin              583 non-null float64\n",
            "Alkaline_Phosphotase          583 non-null int64\n",
            "Alamine_Aminotransferase      583 non-null int64\n",
            "Aspartate_Aminotransferase    583 non-null int64\n",
            "Total_Protiens                583 non-null float64\n",
            "Albumin                       583 non-null float64\n",
            "Albumin_and_Globulin_Ratio    579 non-null float64\n",
            "Dataset                       583 non-null int64\n",
            "dtypes: float64(5), int64(5), object(1)\n",
            "memory usage: 50.2+ KB\n"
          ],
          "name": "stdout"
        }
      ]
    },
    {
      "cell_type": "code",
      "metadata": {
        "id": "uqgFb8EnzmBH",
        "colab_type": "code",
        "outputId": "31420a77-29f0-4268-8f49-8c335afc7fee",
        "colab": {
          "base_uri": "https://localhost:8080/",
          "height": 263
        }
      },
      "source": [
        "data.describe"
      ],
      "execution_count": 0,
      "outputs": [
        {
          "output_type": "execute_result",
          "data": {
            "text/plain": [
              "<bound method NDFrame.describe of      Age  Gender  Total_Bilirubin  ...  Albumin  Albumin_and_Globulin_Ratio  Dataset\n",
              "0     65  Female              0.7  ...      3.3                        0.90        1\n",
              "1     62    Male             10.9  ...      3.2                        0.74        1\n",
              "2     62    Male              7.3  ...      3.3                        0.89        1\n",
              "3     58    Male              1.0  ...      3.4                        1.00        1\n",
              "4     72    Male              3.9  ...      2.4                        0.40        1\n",
              "..   ...     ...              ...  ...      ...                         ...      ...\n",
              "578   60    Male              0.5  ...      1.6                        0.37        2\n",
              "579   40    Male              0.6  ...      3.2                        1.10        1\n",
              "580   52    Male              0.8  ...      3.2                        1.00        1\n",
              "581   31    Male              1.3  ...      3.4                        1.00        1\n",
              "582   38    Male              1.0  ...      4.4                        1.50        2\n",
              "\n",
              "[583 rows x 11 columns]>"
            ]
          },
          "metadata": {
            "tags": []
          },
          "execution_count": 5
        }
      ]
    },
    {
      "cell_type": "code",
      "metadata": {
        "id": "Cs3cYEAYw8R8",
        "colab_type": "code",
        "outputId": "8e25bc3c-a908-43fa-9e67-c4f0f1e27da3",
        "colab": {
          "base_uri": "https://localhost:8080/",
          "height": 298
        }
      },
      "source": [
        "from sklearn import preprocessing\n",
        "le = preprocessing.LabelEncoder()\n",
        "le.fit(data['Gender'])\n",
        "data['Gender']=le.transform(data['Gender'])\n",
        "data.dropna(inplace=True)\n",
        "data['Albumin_and_Globulin_Ratio'] = data['Albumin_and_Globulin_Ratio'].dropna()\n",
        "data.info()"
      ],
      "execution_count": 0,
      "outputs": [
        {
          "output_type": "stream",
          "text": [
            "<class 'pandas.core.frame.DataFrame'>\n",
            "Int64Index: 579 entries, 0 to 582\n",
            "Data columns (total 11 columns):\n",
            "Age                           579 non-null int64\n",
            "Gender                        579 non-null int64\n",
            "Total_Bilirubin               579 non-null float64\n",
            "Direct_Bilirubin              579 non-null float64\n",
            "Alkaline_Phosphotase          579 non-null int64\n",
            "Alamine_Aminotransferase      579 non-null int64\n",
            "Aspartate_Aminotransferase    579 non-null int64\n",
            "Total_Protiens                579 non-null float64\n",
            "Albumin                       579 non-null float64\n",
            "Albumin_and_Globulin_Ratio    579 non-null float64\n",
            "Dataset                       579 non-null int64\n",
            "dtypes: float64(5), int64(6)\n",
            "memory usage: 54.3 KB\n"
          ],
          "name": "stdout"
        }
      ]
    },
    {
      "cell_type": "code",
      "metadata": {
        "id": "aHUeTzLpw8O9",
        "colab_type": "code",
        "colab": {}
      },
      "source": [
        "y=data['Dataset']\n",
        "data.drop(['Dataset'],axis=1,inplace=True)"
      ],
      "execution_count": 0,
      "outputs": []
    },
    {
      "cell_type": "code",
      "metadata": {
        "id": "5IOYcDP1w8Lm",
        "colab_type": "code",
        "colab": {}
      },
      "source": [
        "from sklearn.model_selection import train_test_split\n",
        "X_train, X_test, y_train, y_test = train_test_split(data, y, test_size=0.275, stratify=y,random_state=42)"
      ],
      "execution_count": 0,
      "outputs": []
    },
    {
      "cell_type": "markdown",
      "metadata": {
        "id": "5PW3uy9s1ovy",
        "colab_type": "text"
      },
      "source": [
        "#Perceptron"
      ]
    },
    {
      "cell_type": "code",
      "metadata": {
        "id": "2OWNZhl0w8Ij",
        "colab_type": "code",
        "colab": {}
      },
      "source": [
        "from sklearn.linear_model import Perceptron"
      ],
      "execution_count": 0,
      "outputs": []
    },
    {
      "cell_type": "code",
      "metadata": {
        "id": "5uhXYq3Bw8E4",
        "colab_type": "code",
        "outputId": "98aba13f-7079-44ea-bec3-f68d4de521fb",
        "colab": {
          "base_uri": "https://localhost:8080/",
          "height": 87
        }
      },
      "source": [
        "p = Perceptron(alpha = .1 , max_iter=100, n_iter_no_change=5)\n",
        "p.fit(X_train,y_train)"
      ],
      "execution_count": 0,
      "outputs": [
        {
          "output_type": "execute_result",
          "data": {
            "text/plain": [
              "Perceptron(alpha=0.1, class_weight=None, early_stopping=False, eta0=1.0,\n",
              "           fit_intercept=True, max_iter=100, n_iter_no_change=5, n_jobs=None,\n",
              "           penalty=None, random_state=0, shuffle=True, tol=0.001,\n",
              "           validation_fraction=0.1, verbose=0, warm_start=False)"
            ]
          },
          "metadata": {
            "tags": []
          },
          "execution_count": 17
        }
      ]
    },
    {
      "cell_type": "code",
      "metadata": {
        "id": "9UethmjOw8B1",
        "colab_type": "code",
        "outputId": "4ba8503e-6e42-4629-cc49-ea62341ff19a",
        "colab": {
          "base_uri": "https://localhost:8080/",
          "height": 34
        }
      },
      "source": [
        "p.score(X_test,y_test)"
      ],
      "execution_count": 0,
      "outputs": [
        {
          "output_type": "execute_result",
          "data": {
            "text/plain": [
              "0.7125"
            ]
          },
          "metadata": {
            "tags": []
          },
          "execution_count": 18
        }
      ]
    },
    {
      "cell_type": "markdown",
      "metadata": {
        "id": "g2CR_x_32liW",
        "colab_type": "text"
      },
      "source": [
        "#MLP"
      ]
    },
    {
      "cell_type": "code",
      "metadata": {
        "id": "w4oVSqUNw7-g",
        "colab_type": "code",
        "colab": {}
      },
      "source": [
        "from sklearn.neural_network import MLPClassifier"
      ],
      "execution_count": 0,
      "outputs": []
    },
    {
      "cell_type": "code",
      "metadata": {
        "id": "K7GxZCOC2vC_",
        "colab_type": "code",
        "colab": {}
      },
      "source": [
        "mlp = MLPClassifier(solver= 'lbfgs',alpha=1e-5 ,hidden_layer_sizes = ( 25 , 10 ), random_state = 1 )"
      ],
      "execution_count": 0,
      "outputs": []
    },
    {
      "cell_type": "code",
      "metadata": {
        "id": "TMMxyuCu3Z9R",
        "colab_type": "code",
        "outputId": "3d7031e8-57fa-4e71-f709-08d5c9fb9cbd",
        "colab": {
          "base_uri": "https://localhost:8080/",
          "height": 158
        }
      },
      "source": [
        "mlp.fit(X_train,y_train)"
      ],
      "execution_count": 0,
      "outputs": [
        {
          "output_type": "execute_result",
          "data": {
            "text/plain": [
              "MLPClassifier(activation='relu', alpha=1e-05, batch_size='auto', beta_1=0.9,\n",
              "              beta_2=0.999, early_stopping=False, epsilon=1e-08,\n",
              "              hidden_layer_sizes=(25, 10), learning_rate='constant',\n",
              "              learning_rate_init=0.001, max_fun=15000, max_iter=200,\n",
              "              momentum=0.9, n_iter_no_change=10, nesterovs_momentum=True,\n",
              "              power_t=0.5, random_state=1, shuffle=True, solver='lbfgs',\n",
              "              tol=0.0001, validation_fraction=0.1, verbose=False,\n",
              "              warm_start=False)"
            ]
          },
          "metadata": {
            "tags": []
          },
          "execution_count": 23
        }
      ]
    },
    {
      "cell_type": "code",
      "metadata": {
        "id": "HonFHXrR3gM8",
        "colab_type": "code",
        "outputId": "4485a856-bd46-4963-bb74-dfad1019b8f9",
        "colab": {
          "base_uri": "https://localhost:8080/",
          "height": 34
        }
      },
      "source": [
        "mlp.score(X_test,y_test)"
      ],
      "execution_count": 0,
      "outputs": [
        {
          "output_type": "execute_result",
          "data": {
            "text/plain": [
              "0.7125"
            ]
          },
          "metadata": {
            "tags": []
          },
          "execution_count": 24
        }
      ]
    },
    {
      "cell_type": "markdown",
      "metadata": {
        "id": "A-wQSSFhz-io",
        "colab_type": "text"
      },
      "source": [
        "#Keras"
      ]
    },
    {
      "cell_type": "code",
      "metadata": {
        "id": "TEyG7pb73qXC",
        "colab_type": "code",
        "colab": {}
      },
      "source": [
        "# Importing both TensorFlow and its high level API - Keras.\n",
        "import tensorflow as tf\n",
        "from tensorflow import keras"
      ],
      "execution_count": 0,
      "outputs": []
    },
    {
      "cell_type": "code",
      "metadata": {
        "id": "KEEaiNg40EiZ",
        "colab_type": "code",
        "colab": {}
      },
      "source": [
        "# Setting the random seeds for repeatability\n",
        "tf.set_random_seed(42)\n",
        "np.random.seed(42)"
      ],
      "execution_count": 0,
      "outputs": []
    },
    {
      "cell_type": "code",
      "metadata": {
        "id": "Sn6xMCjm0Ear",
        "colab_type": "code",
        "colab": {}
      },
      "source": [
        "# Create neural network using keras API\n",
        "# Sequential() does linear stacking of layers\n",
        "model_MLP = keras.models.Sequential()"
      ],
      "execution_count": 0,
      "outputs": []
    },
    {
      "cell_type": "code",
      "metadata": {
        "id": "4Tksl0XY0ECD",
        "colab_type": "code",
        "colab": {}
      },
      "source": [
        "model_MLP.add(keras.layers.Dense(units=1, activation='relu', input_shape= X_train.shape[1:]))"
      ],
      "execution_count": 0,
      "outputs": []
    },
    {
      "cell_type": "code",
      "metadata": {
        "id": "5WRPVM8N0D9n",
        "colab_type": "code",
        "colab": {}
      },
      "source": [
        "model_MLP.add(keras.layers.Dense(units=1, activation='sigmoid'))"
      ],
      "execution_count": 0,
      "outputs": []
    },
    {
      "cell_type": "code",
      "metadata": {
        "id": "jCGFDQqA0D48",
        "colab_type": "code",
        "outputId": "660e9daf-5545-453e-a1f2-635321f3de33",
        "colab": {
          "base_uri": "https://localhost:8080/",
          "height": 263
        }
      },
      "source": [
        "# Print the summary of network architecture\n",
        "model_MLP.summary()"
      ],
      "execution_count": 0,
      "outputs": [
        {
          "output_type": "stream",
          "text": [
            "Model: \"sequential\"\n",
            "_________________________________________________________________\n",
            "Layer (type)                 Output Shape              Param #   \n",
            "=================================================================\n",
            "dense (Dense)                (None, 5)                 55        \n",
            "_________________________________________________________________\n",
            "dense_1 (Dense)              (None, 1)                 6         \n",
            "_________________________________________________________________\n",
            "dense_2 (Dense)              (None, 1)                 2         \n",
            "=================================================================\n",
            "Total params: 63\n",
            "Trainable params: 63\n",
            "Non-trainable params: 0\n",
            "_________________________________________________________________\n"
          ],
          "name": "stdout"
        }
      ]
    },
    {
      "cell_type": "code",
      "metadata": {
        "id": "TS7JSnpo0DxZ",
        "colab_type": "code",
        "colab": {}
      },
      "source": [
        "model_MLP.compile(loss='binary_crossentropy', optimizer='adam', metrics=['accuracy'])"
      ],
      "execution_count": 0,
      "outputs": []
    },
    {
      "cell_type": "code",
      "metadata": {
        "id": "MweDQ5O10DtK",
        "colab_type": "code",
        "outputId": "462b49b2-6741-4b12-9472-91e7707868f3",
        "colab": {
          "base_uri": "https://localhost:8080/",
          "height": 1000
        }
      },
      "source": [
        "model_MLP.fit(x=X_train, y=y_train, validation_split=0.1, epochs=50, batch_size=16)"
      ],
      "execution_count": 0,
      "outputs": [
        {
          "output_type": "stream",
          "text": [
            "Train on 377 samples, validate on 42 samples\n",
            "Epoch 1/50\n",
            "377/377 [==============================] - 0s 827us/sample - loss: 0.6839 - acc: 0.6711 - val_loss: 0.6772 - val_acc: 0.8333\n",
            "Epoch 2/50\n",
            "377/377 [==============================] - 0s 97us/sample - loss: 0.6651 - acc: 0.7029 - val_loss: 0.6614 - val_acc: 0.8333\n",
            "Epoch 3/50\n",
            "377/377 [==============================] - 0s 93us/sample - loss: 0.6464 - acc: 0.7029 - val_loss: 0.6460 - val_acc: 0.8333\n",
            "Epoch 4/50\n",
            "377/377 [==============================] - 0s 101us/sample - loss: 0.6281 - acc: 0.7029 - val_loss: 0.6309 - val_acc: 0.8333\n",
            "Epoch 5/50\n",
            "377/377 [==============================] - 0s 92us/sample - loss: 0.6100 - acc: 0.7029 - val_loss: 0.6160 - val_acc: 0.8333\n",
            "Epoch 6/50\n",
            "377/377 [==============================] - 0s 94us/sample - loss: 0.5921 - acc: 0.7029 - val_loss: 0.6012 - val_acc: 0.8333\n",
            "Epoch 7/50\n",
            "377/377 [==============================] - 0s 87us/sample - loss: 0.5743 - acc: 0.7029 - val_loss: 0.5867 - val_acc: 0.8333\n",
            "Epoch 8/50\n",
            "377/377 [==============================] - 0s 95us/sample - loss: 0.5568 - acc: 0.7029 - val_loss: 0.5722 - val_acc: 0.8333\n",
            "Epoch 9/50\n",
            "377/377 [==============================] - 0s 86us/sample - loss: 0.5396 - acc: 0.7029 - val_loss: 0.5578 - val_acc: 0.8333\n",
            "Epoch 10/50\n",
            "377/377 [==============================] - 0s 82us/sample - loss: 0.5223 - acc: 0.7029 - val_loss: 0.5440 - val_acc: 0.8333\n",
            "Epoch 11/50\n",
            "377/377 [==============================] - 0s 86us/sample - loss: 0.5055 - acc: 0.7029 - val_loss: 0.5299 - val_acc: 0.8333\n",
            "Epoch 12/50\n",
            "377/377 [==============================] - 0s 101us/sample - loss: 0.4886 - acc: 0.7029 - val_loss: 0.5164 - val_acc: 0.8333\n",
            "Epoch 13/50\n",
            "377/377 [==============================] - 0s 85us/sample - loss: 0.4722 - acc: 0.7029 - val_loss: 0.5028 - val_acc: 0.8333\n",
            "Epoch 14/50\n",
            "377/377 [==============================] - 0s 86us/sample - loss: 0.4559 - acc: 0.7029 - val_loss: 0.4895 - val_acc: 0.8333\n",
            "Epoch 15/50\n",
            "377/377 [==============================] - 0s 85us/sample - loss: 0.4396 - acc: 0.7029 - val_loss: 0.4765 - val_acc: 0.8333\n",
            "Epoch 16/50\n",
            "377/377 [==============================] - 0s 93us/sample - loss: 0.4237 - acc: 0.7029 - val_loss: 0.4634 - val_acc: 0.8333\n",
            "Epoch 17/50\n",
            "377/377 [==============================] - 0s 90us/sample - loss: 0.4078 - acc: 0.7029 - val_loss: 0.4507 - val_acc: 0.8333\n",
            "Epoch 18/50\n",
            "377/377 [==============================] - 0s 86us/sample - loss: 0.3922 - acc: 0.7029 - val_loss: 0.4379 - val_acc: 0.8333\n",
            "Epoch 19/50\n",
            "377/377 [==============================] - 0s 84us/sample - loss: 0.3766 - acc: 0.7029 - val_loss: 0.4254 - val_acc: 0.8333\n",
            "Epoch 20/50\n",
            "377/377 [==============================] - 0s 84us/sample - loss: 0.3612 - acc: 0.7029 - val_loss: 0.4132 - val_acc: 0.8333\n",
            "Epoch 21/50\n",
            "377/377 [==============================] - 0s 94us/sample - loss: 0.3462 - acc: 0.7029 - val_loss: 0.4009 - val_acc: 0.8333\n",
            "Epoch 22/50\n",
            "377/377 [==============================] - 0s 102us/sample - loss: 0.3312 - acc: 0.7029 - val_loss: 0.3889 - val_acc: 0.8333\n",
            "Epoch 23/50\n",
            "377/377 [==============================] - 0s 95us/sample - loss: 0.3164 - acc: 0.7029 - val_loss: 0.3772 - val_acc: 0.8333\n",
            "Epoch 24/50\n",
            "377/377 [==============================] - 0s 79us/sample - loss: 0.3018 - acc: 0.7029 - val_loss: 0.3655 - val_acc: 0.8333\n",
            "Epoch 25/50\n",
            "377/377 [==============================] - 0s 88us/sample - loss: 0.2873 - acc: 0.7029 - val_loss: 0.3539 - val_acc: 0.8333\n",
            "Epoch 26/50\n",
            "377/377 [==============================] - 0s 86us/sample - loss: 0.2730 - acc: 0.7029 - val_loss: 0.3425 - val_acc: 0.8333\n",
            "Epoch 27/50\n",
            "377/377 [==============================] - 0s 85us/sample - loss: 0.2587 - acc: 0.7029 - val_loss: 0.3313 - val_acc: 0.8333\n",
            "Epoch 28/50\n",
            "377/377 [==============================] - 0s 82us/sample - loss: 0.2449 - acc: 0.7029 - val_loss: 0.3200 - val_acc: 0.8333\n",
            "Epoch 29/50\n",
            "377/377 [==============================] - 0s 85us/sample - loss: 0.2308 - acc: 0.7029 - val_loss: 0.3092 - val_acc: 0.8333\n",
            "Epoch 30/50\n",
            "377/377 [==============================] - 0s 84us/sample - loss: 0.2172 - acc: 0.7029 - val_loss: 0.2982 - val_acc: 0.8333\n",
            "Epoch 31/50\n",
            "377/377 [==============================] - 0s 84us/sample - loss: 0.2036 - acc: 0.7029 - val_loss: 0.2874 - val_acc: 0.8333\n",
            "Epoch 32/50\n",
            "377/377 [==============================] - 0s 84us/sample - loss: 0.1901 - acc: 0.7029 - val_loss: 0.2769 - val_acc: 0.8333\n",
            "Epoch 33/50\n",
            "377/377 [==============================] - 0s 94us/sample - loss: 0.1769 - acc: 0.7029 - val_loss: 0.2664 - val_acc: 0.8333\n",
            "Epoch 34/50\n",
            "377/377 [==============================] - 0s 86us/sample - loss: 0.1639 - acc: 0.7029 - val_loss: 0.2561 - val_acc: 0.8333\n",
            "Epoch 35/50\n",
            "377/377 [==============================] - 0s 88us/sample - loss: 0.1508 - acc: 0.7029 - val_loss: 0.2462 - val_acc: 0.8333\n",
            "Epoch 36/50\n",
            "377/377 [==============================] - 0s 86us/sample - loss: 0.1381 - acc: 0.7029 - val_loss: 0.2362 - val_acc: 0.8333\n",
            "Epoch 37/50\n",
            "377/377 [==============================] - 0s 85us/sample - loss: 0.1255 - acc: 0.7029 - val_loss: 0.2260 - val_acc: 0.8333\n",
            "Epoch 38/50\n",
            "377/377 [==============================] - 0s 88us/sample - loss: 0.1127 - acc: 0.7029 - val_loss: 0.2163 - val_acc: 0.8333\n",
            "Epoch 39/50\n",
            "377/377 [==============================] - 0s 123us/sample - loss: 0.1002 - acc: 0.7029 - val_loss: 0.2067 - val_acc: 0.8333\n",
            "Epoch 40/50\n",
            "377/377 [==============================] - 0s 91us/sample - loss: 0.0880 - acc: 0.7029 - val_loss: 0.1971 - val_acc: 0.8333\n",
            "Epoch 41/50\n",
            "377/377 [==============================] - 0s 103us/sample - loss: 0.0757 - acc: 0.7029 - val_loss: 0.1878 - val_acc: 0.8333\n",
            "Epoch 42/50\n",
            "377/377 [==============================] - 0s 87us/sample - loss: 0.0637 - acc: 0.7029 - val_loss: 0.1784 - val_acc: 0.8333\n",
            "Epoch 43/50\n",
            "377/377 [==============================] - 0s 88us/sample - loss: 0.0517 - acc: 0.7029 - val_loss: 0.1691 - val_acc: 0.8333\n",
            "Epoch 44/50\n",
            "377/377 [==============================] - 0s 86us/sample - loss: 0.0398 - acc: 0.7029 - val_loss: 0.1600 - val_acc: 0.8333\n",
            "Epoch 45/50\n",
            "377/377 [==============================] - 0s 90us/sample - loss: 0.0281 - acc: 0.7029 - val_loss: 0.1510 - val_acc: 0.8333\n",
            "Epoch 46/50\n",
            "377/377 [==============================] - 0s 89us/sample - loss: 0.0165 - acc: 0.7029 - val_loss: 0.1422 - val_acc: 0.8333\n",
            "Epoch 47/50\n",
            "377/377 [==============================] - 0s 92us/sample - loss: 0.0050 - acc: 0.7029 - val_loss: 0.1333 - val_acc: 0.8333\n",
            "Epoch 48/50\n",
            "377/377 [==============================] - 0s 85us/sample - loss: -0.0064 - acc: 0.7029 - val_loss: 0.1246 - val_acc: 0.8333\n",
            "Epoch 49/50\n",
            "377/377 [==============================] - 0s 92us/sample - loss: -0.0177 - acc: 0.7029 - val_loss: 0.1161 - val_acc: 0.8333\n",
            "Epoch 50/50\n",
            "377/377 [==============================] - 0s 84us/sample - loss: -0.0287 - acc: 0.7029 - val_loss: 0.1077 - val_acc: 0.8333\n"
          ],
          "name": "stdout"
        },
        {
          "output_type": "execute_result",
          "data": {
            "text/plain": [
              "<tensorflow.python.keras.callbacks.History at 0x7f5c55de9710>"
            ]
          },
          "metadata": {
            "tags": []
          },
          "execution_count": 33
        }
      ]
    },
    {
      "cell_type": "code",
      "metadata": {
        "id": "6Fyj3Usv1HVH",
        "colab_type": "code",
        "outputId": "6f03b526-311b-40f1-f795-d157a041dec2",
        "colab": {
          "base_uri": "https://localhost:8080/",
          "height": 34
        }
      },
      "source": [
        "test_loss, test_accuracy = model_MLP.evaluate(x=X_test, y=y_test)"
      ],
      "execution_count": 0,
      "outputs": [
        {
          "output_type": "stream",
          "text": [
            "160/160 [==============================] - 0s 47us/sample - loss: -0.0242 - acc: 0.7125\n"
          ],
          "name": "stdout"
        }
      ]
    },
    {
      "cell_type": "code",
      "metadata": {
        "id": "xO4x9Tez1Hcy",
        "colab_type": "code",
        "outputId": "76963c7b-c9d2-402b-b139-8d0aa1f00cc2",
        "colab": {
          "base_uri": "https://localhost:8080/",
          "height": 52
        }
      },
      "source": [
        "print(test_loss )\n",
        "print( test_accuracy)"
      ],
      "execution_count": 0,
      "outputs": [
        {
          "output_type": "stream",
          "text": [
            "-0.024201971292495728\n",
            "0.7125\n"
          ],
          "name": "stdout"
        }
      ]
    }
  ]
}
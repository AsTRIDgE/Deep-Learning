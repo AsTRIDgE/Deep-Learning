{
  "nbformat": 4,
  "nbformat_minor": 0,
  "metadata": {
    "colab": {
      "name": "MLP keras -Wine.ipynb",
      "provenance": [],
      "collapsed_sections": [],
      "authorship_tag": "ABX9TyM7uHyfIg65iXPXurCY4/cW",
      "include_colab_link": true
    },
    "kernelspec": {
      "name": "python3",
      "display_name": "Python 3"
    }
  },
  "cells": [
    {
      "cell_type": "markdown",
      "metadata": {
        "id": "view-in-github",
        "colab_type": "text"
      },
      "source": [
        "<a href=\"https://colab.research.google.com/github/AsTRIDgE/Deep-Learning/blob/master/MLP_keras_Wine.ipynb\" target=\"_parent\"><img src=\"https://colab.research.google.com/assets/colab-badge.svg\" alt=\"Open In Colab\"/></a>"
      ]
    },
    {
      "cell_type": "markdown",
      "metadata": {
        "id": "La-2mcBxWmIT",
        "colab_type": "text"
      },
      "source": [
        "#MLP for multi-class classification problem on Wine dataset"
      ]
    },
    {
      "cell_type": "code",
      "metadata": {
        "id": "t1yawP7PWox7",
        "colab_type": "code",
        "colab": {}
      },
      "source": [
        "import numpy as np\n",
        "import pandas as pd\n",
        "import matplotlib.pyplot as plt"
      ],
      "execution_count": 0,
      "outputs": []
    },
    {
      "cell_type": "code",
      "metadata": {
        "id": "V0aABqdZXYY4",
        "colab_type": "code",
        "colab": {}
      },
      "source": [
        "# Load the dataset from sklearn\n",
        "from sklearn.datasets import load_wine"
      ],
      "execution_count": 0,
      "outputs": []
    },
    {
      "cell_type": "code",
      "metadata": {
        "id": "DPJ7c719WsTo",
        "colab_type": "code",
        "colab": {}
      },
      "source": [
        "# Importing both TensorFlow and its high level API - Keras.\n",
        "import tensorflow as tf\n",
        "from tensorflow import keras\n"
      ],
      "execution_count": 0,
      "outputs": []
    },
    {
      "cell_type": "code",
      "metadata": {
        "id": "G8EDr1YHWsQl",
        "colab_type": "code",
        "colab": {}
      },
      "source": [
        "# Setting the random seeds for repeatability\n",
        "tf.set_random_seed(42)\n",
        "np.random.seed(42)\n"
      ],
      "execution_count": 0,
      "outputs": []
    },
    {
      "cell_type": "code",
      "metadata": {
        "id": "9kn6i4e4WsNm",
        "colab_type": "code",
        "colab": {}
      },
      "source": [
        "# Loading the dataset\n",
        "wineData = load_wine()"
      ],
      "execution_count": 0,
      "outputs": []
    },
    {
      "cell_type": "code",
      "metadata": {
        "id": "Ojm9wn0hWsK1",
        "colab_type": "code",
        "colab": {}
      },
      "source": [
        "# Load the attributes and target in X and y\n",
        "X = wineData.data\n",
        "y = wineData.target\n"
      ],
      "execution_count": 0,
      "outputs": []
    },
    {
      "cell_type": "code",
      "metadata": {
        "id": "9CB9EgcuWsHg",
        "colab_type": "code",
        "colab": {}
      },
      "source": [
        "# Split the data into 80% training and 20% testing\n",
        "from sklearn.model_selection import train_test_split\n",
        "\n",
        "X_train, X_test, y_train, y_test = train_test_split(X, y, test_size=0.2, stratify=y, random_state=42)"
      ],
      "execution_count": 0,
      "outputs": []
    },
    {
      "cell_type": "code",
      "metadata": {
        "id": "O9o7mi_yWsEz",
        "colab_type": "code",
        "colab": {}
      },
      "source": [
        "# Feature scaling using Standardization\n",
        "from sklearn.preprocessing import StandardScaler\n",
        "sc = StandardScaler()\n",
        "\n",
        "# Training the feature scaling parameters\n",
        "sc.fit(X_train)\n",
        "\n",
        "# Applying transformations to both training and testing set\n",
        "X_train_std = sc.transform(X_train)\n",
        "X_test_std = sc.transform(X_test)"
      ],
      "execution_count": 0,
      "outputs": []
    },
    {
      "cell_type": "code",
      "metadata": {
        "id": "8wEH2F1TWr9R",
        "colab_type": "code",
        "colab": {}
      },
      "source": [
        "# Create neural network using keras API\n",
        "\n",
        "# Sequential() does linear stacking of layers\n",
        "model_MLP = keras.models.Sequential()\n",
        "\n",
        "# Hidden layer definitions\n",
        "model_MLP.add(keras.layers.Dense(units=5, activation='relu', input_shape= X_train.shape[1:]))\n",
        "\n",
        "# Output layer definitions\n",
        "model_MLP.add(keras.layers.Dense(units=3, activation='softmax'))"
      ],
      "execution_count": 0,
      "outputs": []
    },
    {
      "cell_type": "code",
      "metadata": {
        "id": "CFaRZXjKW-OF",
        "colab_type": "code",
        "outputId": "6e95ba6b-f836-45a0-fab0-cb9108d6ccd4",
        "colab": {
          "base_uri": "https://localhost:8080/",
          "height": 237
        }
      },
      "source": [
        "# Print the summary of network architecture\n",
        "model_MLP.summary()"
      ],
      "execution_count": 0,
      "outputs": [
        {
          "output_type": "stream",
          "text": [
            "Model: \"sequential\"\n",
            "_________________________________________________________________\n",
            "Layer (type)                 Output Shape              Param #   \n",
            "=================================================================\n",
            "dense (Dense)                (None, 5)                 70        \n",
            "_________________________________________________________________\n",
            "dense_1 (Dense)              (None, 3)                 18        \n",
            "=================================================================\n",
            "Total params: 88\n",
            "Trainable params: 88\n",
            "Non-trainable params: 0\n",
            "_________________________________________________________________\n"
          ],
          "name": "stdout"
        }
      ]
    },
    {
      "cell_type": "code",
      "metadata": {
        "id": "Egrw4v02W-Ai",
        "colab_type": "code",
        "colab": {}
      },
      "source": [
        "model_MLP.compile(loss='sparse_categorical_crossentropy', optimizer='adam', metrics=['accuracy'])"
      ],
      "execution_count": 0,
      "outputs": []
    },
    {
      "cell_type": "code",
      "metadata": {
        "id": "2zMyDI8UW99y",
        "colab_type": "code",
        "outputId": "0069dd5f-bd7b-4d6d-9204-c9fde1d9f16f",
        "colab": {
          "base_uri": "https://localhost:8080/",
          "height": 1000
        }
      },
      "source": [
        "model_MLP.fit(x=X_train_std, y=y_train, validation_split=0.1, epochs=50, batch_size=16)"
      ],
      "execution_count": 0,
      "outputs": [
        {
          "output_type": "stream",
          "text": [
            "Train on 127 samples, validate on 15 samples\n",
            "Epoch 1/50\n",
            "127/127 [==============================] - 0s 2ms/sample - loss: 1.3160 - acc: 0.3465 - val_loss: 1.3367 - val_acc: 0.0667\n",
            "Epoch 2/50\n",
            "127/127 [==============================] - 0s 126us/sample - loss: 1.2678 - acc: 0.3780 - val_loss: 1.2835 - val_acc: 0.0667\n",
            "Epoch 3/50\n",
            "127/127 [==============================] - 0s 113us/sample - loss: 1.2202 - acc: 0.3937 - val_loss: 1.2360 - val_acc: 0.0667\n",
            "Epoch 4/50\n",
            "127/127 [==============================] - 0s 113us/sample - loss: 1.1764 - acc: 0.4488 - val_loss: 1.1911 - val_acc: 0.0667\n",
            "Epoch 5/50\n",
            "127/127 [==============================] - 0s 132us/sample - loss: 1.1339 - acc: 0.4882 - val_loss: 1.1480 - val_acc: 0.2000\n",
            "Epoch 6/50\n",
            "127/127 [==============================] - 0s 141us/sample - loss: 1.0946 - acc: 0.5039 - val_loss: 1.1061 - val_acc: 0.2000\n",
            "Epoch 7/50\n",
            "127/127 [==============================] - 0s 137us/sample - loss: 1.0564 - acc: 0.5118 - val_loss: 1.0672 - val_acc: 0.2000\n",
            "Epoch 8/50\n",
            "127/127 [==============================] - 0s 162us/sample - loss: 1.0213 - acc: 0.5433 - val_loss: 1.0307 - val_acc: 0.3333\n",
            "Epoch 9/50\n",
            "127/127 [==============================] - 0s 152us/sample - loss: 0.9871 - acc: 0.5591 - val_loss: 0.9966 - val_acc: 0.4000\n",
            "Epoch 10/50\n",
            "127/127 [==============================] - 0s 103us/sample - loss: 0.9548 - acc: 0.5669 - val_loss: 0.9656 - val_acc: 0.4000\n",
            "Epoch 11/50\n",
            "127/127 [==============================] - 0s 149us/sample - loss: 0.9239 - acc: 0.6063 - val_loss: 0.9371 - val_acc: 0.4667\n",
            "Epoch 12/50\n",
            "127/127 [==============================] - 0s 130us/sample - loss: 0.8980 - acc: 0.6063 - val_loss: 0.9109 - val_acc: 0.4667\n",
            "Epoch 13/50\n",
            "127/127 [==============================] - 0s 148us/sample - loss: 0.8710 - acc: 0.6220 - val_loss: 0.8873 - val_acc: 0.4667\n",
            "Epoch 14/50\n",
            "127/127 [==============================] - 0s 154us/sample - loss: 0.8472 - acc: 0.6378 - val_loss: 0.8653 - val_acc: 0.4667\n",
            "Epoch 15/50\n",
            "127/127 [==============================] - 0s 127us/sample - loss: 0.8244 - acc: 0.6614 - val_loss: 0.8456 - val_acc: 0.5333\n",
            "Epoch 16/50\n",
            "127/127 [==============================] - 0s 135us/sample - loss: 0.8037 - acc: 0.6614 - val_loss: 0.8268 - val_acc: 0.5333\n",
            "Epoch 17/50\n",
            "127/127 [==============================] - 0s 141us/sample - loss: 0.7822 - acc: 0.6614 - val_loss: 0.8101 - val_acc: 0.5333\n",
            "Epoch 18/50\n",
            "127/127 [==============================] - 0s 127us/sample - loss: 0.7628 - acc: 0.6693 - val_loss: 0.7950 - val_acc: 0.5333\n",
            "Epoch 19/50\n",
            "127/127 [==============================] - 0s 130us/sample - loss: 0.7444 - acc: 0.6772 - val_loss: 0.7810 - val_acc: 0.5333\n",
            "Epoch 20/50\n",
            "127/127 [==============================] - 0s 209us/sample - loss: 0.7263 - acc: 0.6929 - val_loss: 0.7678 - val_acc: 0.5333\n",
            "Epoch 21/50\n",
            "127/127 [==============================] - 0s 147us/sample - loss: 0.7091 - acc: 0.7008 - val_loss: 0.7553 - val_acc: 0.5333\n",
            "Epoch 22/50\n",
            "127/127 [==============================] - 0s 136us/sample - loss: 0.6938 - acc: 0.7008 - val_loss: 0.7436 - val_acc: 0.5333\n",
            "Epoch 23/50\n",
            "127/127 [==============================] - 0s 156us/sample - loss: 0.6775 - acc: 0.7008 - val_loss: 0.7333 - val_acc: 0.5333\n",
            "Epoch 24/50\n",
            "127/127 [==============================] - 0s 125us/sample - loss: 0.6627 - acc: 0.7008 - val_loss: 0.7236 - val_acc: 0.5333\n",
            "Epoch 25/50\n",
            "127/127 [==============================] - 0s 150us/sample - loss: 0.6481 - acc: 0.7087 - val_loss: 0.7144 - val_acc: 0.5333\n",
            "Epoch 26/50\n",
            "127/127 [==============================] - 0s 130us/sample - loss: 0.6345 - acc: 0.7165 - val_loss: 0.7059 - val_acc: 0.5333\n",
            "Epoch 27/50\n",
            "127/127 [==============================] - 0s 163us/sample - loss: 0.6214 - acc: 0.7165 - val_loss: 0.6971 - val_acc: 0.5333\n",
            "Epoch 28/50\n",
            "127/127 [==============================] - 0s 136us/sample - loss: 0.6087 - acc: 0.7165 - val_loss: 0.6891 - val_acc: 0.5333\n",
            "Epoch 29/50\n",
            "127/127 [==============================] - 0s 165us/sample - loss: 0.5968 - acc: 0.7165 - val_loss: 0.6812 - val_acc: 0.5333\n",
            "Epoch 30/50\n",
            "127/127 [==============================] - 0s 147us/sample - loss: 0.5851 - acc: 0.7323 - val_loss: 0.6739 - val_acc: 0.5333\n",
            "Epoch 31/50\n",
            "127/127 [==============================] - 0s 161us/sample - loss: 0.5738 - acc: 0.7323 - val_loss: 0.6668 - val_acc: 0.5333\n",
            "Epoch 32/50\n",
            "127/127 [==============================] - 0s 124us/sample - loss: 0.5629 - acc: 0.7323 - val_loss: 0.6603 - val_acc: 0.5333\n",
            "Epoch 33/50\n",
            "127/127 [==============================] - 0s 141us/sample - loss: 0.5529 - acc: 0.7323 - val_loss: 0.6533 - val_acc: 0.5333\n",
            "Epoch 34/50\n",
            "127/127 [==============================] - 0s 130us/sample - loss: 0.5429 - acc: 0.7323 - val_loss: 0.6469 - val_acc: 0.5333\n",
            "Epoch 35/50\n",
            "127/127 [==============================] - 0s 151us/sample - loss: 0.5335 - acc: 0.7323 - val_loss: 0.6408 - val_acc: 0.5333\n",
            "Epoch 36/50\n",
            "127/127 [==============================] - 0s 133us/sample - loss: 0.5240 - acc: 0.7323 - val_loss: 0.6347 - val_acc: 0.5333\n",
            "Epoch 37/50\n",
            "127/127 [==============================] - 0s 144us/sample - loss: 0.5154 - acc: 0.7402 - val_loss: 0.6288 - val_acc: 0.5333\n",
            "Epoch 38/50\n",
            "127/127 [==============================] - 0s 199us/sample - loss: 0.5067 - acc: 0.7480 - val_loss: 0.6232 - val_acc: 0.5333\n",
            "Epoch 39/50\n",
            "127/127 [==============================] - 0s 125us/sample - loss: 0.4984 - acc: 0.7638 - val_loss: 0.6174 - val_acc: 0.5333\n",
            "Epoch 40/50\n",
            "127/127 [==============================] - 0s 127us/sample - loss: 0.4901 - acc: 0.7638 - val_loss: 0.6113 - val_acc: 0.5333\n",
            "Epoch 41/50\n",
            "127/127 [==============================] - 0s 125us/sample - loss: 0.4822 - acc: 0.7638 - val_loss: 0.6056 - val_acc: 0.5333\n",
            "Epoch 42/50\n",
            "127/127 [==============================] - 0s 131us/sample - loss: 0.4747 - acc: 0.7795 - val_loss: 0.5996 - val_acc: 0.5333\n",
            "Epoch 43/50\n",
            "127/127 [==============================] - 0s 125us/sample - loss: 0.4675 - acc: 0.7795 - val_loss: 0.5945 - val_acc: 0.5333\n",
            "Epoch 44/50\n",
            "127/127 [==============================] - 0s 112us/sample - loss: 0.4601 - acc: 0.7795 - val_loss: 0.5887 - val_acc: 0.5333\n",
            "Epoch 45/50\n",
            "127/127 [==============================] - 0s 125us/sample - loss: 0.4529 - acc: 0.7874 - val_loss: 0.5833 - val_acc: 0.5333\n",
            "Epoch 46/50\n",
            "127/127 [==============================] - 0s 147us/sample - loss: 0.4462 - acc: 0.7953 - val_loss: 0.5780 - val_acc: 0.5333\n",
            "Epoch 47/50\n",
            "127/127 [==============================] - 0s 114us/sample - loss: 0.4398 - acc: 0.8031 - val_loss: 0.5725 - val_acc: 0.5333\n",
            "Epoch 48/50\n",
            "127/127 [==============================] - 0s 132us/sample - loss: 0.4331 - acc: 0.8031 - val_loss: 0.5671 - val_acc: 0.5333\n",
            "Epoch 49/50\n",
            "127/127 [==============================] - 0s 110us/sample - loss: 0.4267 - acc: 0.8031 - val_loss: 0.5619 - val_acc: 0.5333\n",
            "Epoch 50/50\n",
            "127/127 [==============================] - 0s 115us/sample - loss: 0.4208 - acc: 0.8110 - val_loss: 0.5567 - val_acc: 0.6000\n"
          ],
          "name": "stdout"
        },
        {
          "output_type": "execute_result",
          "data": {
            "text/plain": [
              "<tensorflow.python.keras.callbacks.History at 0x7fd278af3c88>"
            ]
          },
          "metadata": {
            "tags": []
          },
          "execution_count": 14
        }
      ]
    },
    {
      "cell_type": "code",
      "metadata": {
        "id": "S5wOEPGxW96i",
        "colab_type": "code",
        "outputId": "d66390b4-bd6c-4de3-cb92-e92474f52be1",
        "colab": {
          "base_uri": "https://localhost:8080/",
          "height": 35
        }
      },
      "source": [
        "test_loss, test_accuracy = model_MLP.evaluate(x=X_test_std, y=y_test)"
      ],
      "execution_count": 0,
      "outputs": [
        {
          "output_type": "stream",
          "text": [
            "36/36 [==============================] - 0s 135us/sample - loss: 0.5300 - acc: 0.7222\n"
          ],
          "name": "stdout"
        }
      ]
    },
    {
      "cell_type": "code",
      "metadata": {
        "id": "qVnvCU8zW93B",
        "colab_type": "code",
        "outputId": "256078fc-71f0-47e2-dbb7-6504990fc925",
        "colab": {
          "base_uri": "https://localhost:8080/",
          "height": 35
        }
      },
      "source": [
        "print(test_loss, test_accuracy)"
      ],
      "execution_count": 0,
      "outputs": [
        {
          "output_type": "stream",
          "text": [
            "0.5300196806589762 0.7222222\n"
          ],
          "name": "stdout"
        }
      ]
    }
  ]
}
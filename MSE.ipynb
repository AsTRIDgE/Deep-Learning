{
  "nbformat": 4,
  "nbformat_minor": 0,
  "metadata": {
    "colab": {
      "name": "MSE.ipynb",
      "provenance": [],
      "collapsed_sections": [],
      "include_colab_link": true
    },
    "kernelspec": {
      "name": "python3",
      "display_name": "Python 3"
    }
  },
  "cells": [
    {
      "cell_type": "markdown",
      "metadata": {
        "id": "view-in-github",
        "colab_type": "text"
      },
      "source": [
        "<a href=\"https://colab.research.google.com/github/AsTRIDgE/Deep-Learning/blob/master/MSE.ipynb\" target=\"_parent\"><img src=\"https://colab.research.google.com/assets/colab-badge.svg\" alt=\"Open In Colab\"/></a>"
      ]
    },
    {
      "cell_type": "code",
      "metadata": {
        "id": "fZC7mTM1QdwM",
        "colab_type": "code",
        "outputId": "ba3ed581-4c86-494e-8cd9-2a24679d0f2a",
        "colab": {
          "base_uri": "https://localhost:8080/",
          "height": 34
        }
      },
      "source": [
        "#Program to use Mean Squared Error\n",
        "from sklearn.metrics import mean_squared_error\n",
        "\n",
        "# There is no separate funciton defined in sklearn for RMSE.\n",
        "# To get RMSE results, take square root of the MSE returned value.\n",
        "y_true = [3, -0.5, 2, 7]\n",
        "y_pred = [2.5, 0.0, 2, 8]\n",
        "mse = mean_squared_error(y_true, y_pred)\n",
        "print(mse)"
      ],
      "execution_count": 8,
      "outputs": [
        {
          "output_type": "stream",
          "text": [
            "0.375\n"
          ],
          "name": "stdout"
        }
      ]
    },
    {
      "cell_type": "code",
      "metadata": {
        "id": "J3eSQFWNTtnd",
        "colab_type": "code",
        "colab": {
          "base_uri": "https://localhost:8080/",
          "height": 34
        },
        "outputId": "a7de0341-39f0-4f35-f321-52aa1ef8bba3"
      },
      "source": [
        "y_true = [[0.5, 1],[-1, 1],[7, -6]]\n",
        "y_pred = [[0, 2],[-1, 2],[8, -5]]\n",
        "mse = mean_squared_error(y_true, y_pred)\n",
        "print( mse)"
      ],
      "execution_count": 9,
      "outputs": [
        {
          "output_type": "stream",
          "text": [
            "0.7083333333333334\n"
          ],
          "name": "stdout"
        }
      ]
    },
    {
      "cell_type": "code",
      "metadata": {
        "id": "o7XOcynVRmZT",
        "colab_type": "code",
        "outputId": "c7a2aad4-bd4b-4498-ffba-b0210227074d",
        "colab": {
          "base_uri": "https://localhost:8080/",
          "height": 52
        }
      },
      "source": [
        "# multiouput: Defines aggregating of multiple output values.\n",
        "# Returns a full set of errors in case of multioutput input.\n",
        "mse = mean_squared_error(y_true, y_pred, multioutput='raw_values')\n",
        "print(\"MSE: {}\\n\".format(mse))"
      ],
      "execution_count": 10,
      "outputs": [
        {
          "output_type": "stream",
          "text": [
            "MSE: [0.41666667 1.        ]\n",
            "\n"
          ],
          "name": "stdout"
        }
      ]
    },
    {
      "cell_type": "code",
      "metadata": {
        "id": "mc_wTd3tT0Pj",
        "colab_type": "code",
        "colab": {
          "base_uri": "https://localhost:8080/",
          "height": 52
        },
        "outputId": "75ffa520-2d97-4f8c-95b9-d7b597f0e8bd"
      },
      "source": [
        "# Errors of all outputs are averaged with given weights.\n",
        "mse = mean_squared_error(y_true, y_pred, multioutput=[0.3, 0.7])\n",
        "print(\"MSE: %f\\n\" % mse)"
      ],
      "execution_count": 11,
      "outputs": [
        {
          "output_type": "stream",
          "text": [
            "MSE: 0.825000\n",
            "\n"
          ],
          "name": "stdout"
        }
      ]
    },
    {
      "cell_type": "code",
      "metadata": {
        "id": "3yOKaLv8RmRr",
        "colab_type": "code",
        "outputId": "e18c0e11-83c5-4545-f049-7c35fc8bd4db",
        "colab": {
          "base_uri": "https://localhost:8080/",
          "height": 52
        }
      },
      "source": [
        "#Program to use Mean Absolute Error\n",
        "from sklearn.metrics import mean_absolute_error\n",
        "\n",
        "# MAE output is non-negative floating point. The best value is 0.0.\n",
        "\n",
        "y_true = [3, -0.5, 2, 7]\n",
        "y_pred = [2.5, 0.0, 2, 8]\n",
        "mae = mean_absolute_error(y_true, y_pred)\n",
        "print(\"MAE: %f\\n\" % mae)"
      ],
      "execution_count": 12,
      "outputs": [
        {
          "output_type": "stream",
          "text": [
            "MAE: 0.500000\n",
            "\n"
          ],
          "name": "stdout"
        }
      ]
    },
    {
      "cell_type": "code",
      "metadata": {
        "id": "6xjVgRh7NudH",
        "colab_type": "code",
        "colab": {
          "base_uri": "https://localhost:8080/",
          "height": 52
        },
        "outputId": "c06bf600-362b-4c44-9320-f2ae7880fd2d"
      },
      "source": [
        "y_true = [[0.5, 1], [-1, 1], [7, -6]]\n",
        "y_pred = [[0, 2], [-1, 2], [8, -5]]\n",
        "mae = mean_absolute_error(y_true, y_pred)\n",
        "print(\"MAE: %f\\n\" % mae)"
      ],
      "execution_count": 13,
      "outputs": [
        {
          "output_type": "stream",
          "text": [
            "MAE: 0.750000\n",
            "\n"
          ],
          "name": "stdout"
        }
      ]
    },
    {
      "cell_type": "code",
      "metadata": {
        "id": "trim9p_NRmOc",
        "colab_type": "code",
        "outputId": "b74d2e11-fe7c-4baa-e67d-bc4476142ca6",
        "colab": {
          "base_uri": "https://localhost:8080/",
          "height": 52
        }
      },
      "source": [
        "# multiouput: Defines aggregating of multiple output values.\n",
        "# Returns a full set of errors in case of multioutput input.\n",
        "mae = mean_absolute_error(y_true, y_pred, multioutput='raw_values')\n",
        "print(\"MAE: {}\\n\".format(mae))"
      ],
      "execution_count": 14,
      "outputs": [
        {
          "output_type": "stream",
          "text": [
            "MAE: [0.5 1. ]\n",
            "\n"
          ],
          "name": "stdout"
        }
      ]
    },
    {
      "cell_type": "code",
      "metadata": {
        "id": "EnQ_9_K4RmLc",
        "colab_type": "code",
        "colab": {
          "base_uri": "https://localhost:8080/",
          "height": 52
        },
        "outputId": "fe1c2a32-437c-42f1-94bd-56dc364dc33d"
      },
      "source": [
        "# Errors of all outputs are averaged with given weights.\n",
        "mae = mean_absolute_error(y_true, y_pred, multioutput=[0.3, 0.7])\n",
        "print(\"MAE: %f\\n\" % mae)"
      ],
      "execution_count": 15,
      "outputs": [
        {
          "output_type": "stream",
          "text": [
            "MAE: 0.850000\n",
            "\n"
          ],
          "name": "stdout"
        }
      ]
    }
  ]
}